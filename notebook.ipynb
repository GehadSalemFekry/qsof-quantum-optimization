{
 "cells": [
  {
   "cell_type": "code",
   "execution_count": 2,
   "metadata": {},
   "outputs": [],
   "source": [
    "import random\n",
    "import numpy as np\n",
    "import gurobipy as gp\n",
    "from gurobipy import GRB\n",
    "from itertools import product\n",
    "from dwave.system import EmbeddingComposite\n",
    "from dwave.samplers import SimulatedAnnealingSampler\n",
    "from qiskit import transpile\n",
    "from qiskit.circuit import QuantumCircuit, Parameter\n",
    "from qiskit.circuit.library import QAOAAnsatz, TwoLocal\n",
    "from qiskit.quantum_info import SparsePauliOp, Pauli\n",
    "from qiskit_aer import AerSimulator\n",
    "from qiskit_algorithms.optimizers import COBYLA\n",
    "from qiskit_algorithms import VQE\n",
    "from qiskit.primitives import Estimator\n",
    "from scipy.optimize import minimize"
   ]
  },
  {
   "cell_type": "markdown",
   "metadata": {},
   "source": [
    "## Bin Packing ILP with Gurobi\n",
    "The following cell demonstrates how to solve the bin packing problem using Integer Linear Programming (ILP). We use Gurobi to optimize the number of bins required to pack a given set of items with specific weights into bins of fixed capacity.\n",
    "\n",
    "\n",
    "The function `bin_packing_ilp(weights, bin_capacity)` solves the bin packing problem using ILP.\n",
    "- **Arguments:**\n",
    "  - `weights`: A list containing the weights of items.\n",
    "  - `bin_capacity`: The maximum capacity of each bin.\n",
    "\n",
    "### Step 1: Initialize Model and Variables\n",
    "- **Number of Items and Bins:**\n",
    "  - `num_items` is the total number of items to pack.\n",
    "  - `num_bins` is set equal to `num_items` for the worst-case scenario, where each item needs its own bin.\n",
    "- **Create Model:**\n",
    "  - Gurobi's `Model()` function is used to create a new optimization model named `\"BinPacking\"`.\n",
    "- **Decision Variables:**\n",
    "  - `x[i, j]`: Binary variable representing if item `i` is placed in bin `j`.\n",
    "  - `y[j]`: Binary variable representing if bin `j` is used.\n",
    "\n",
    "### Step 2: Set Objective Function\n",
    "- The objective is to minimize the total number of bins used.\n",
    "- This is implemented as minimizing the sum of `y[j]` for all bins `j`.\n",
    "\n",
    "### Step 3: Add Constraints\n",
    "- **Item Placement Constraint:**\n",
    "  - Each item must be assigned to exactly one bin.\n",
    "  - This ensures all items are placed and not split across bins.\n",
    "- **Bin Capacity Constraint:**\n",
    "  - The total weight of items in each bin cannot exceed the bin capacity.\n",
    "  - The constraint ensures a bin is used (`y[j] = 1`) if any items are assigned to it.\n",
    "\n",
    "### Step 4: Optimize and Print Solution\n",
    "- **Optimize Model:**\n",
    "  - Gurobi's optimizer is used to find the solution.\n",
    "- **Print Results:**\n",
    "  - If an optimal solution is found, the number of bins used and their contents are printed."
   ]
  },
  {
   "cell_type": "code",
   "execution_count": 3,
   "metadata": {},
   "outputs": [],
   "source": [
    "def bin_packing_ilp(weights, bin_capacity):\n",
    "    num_items = len(weights)\n",
    "    num_bins = num_items  # At most one bin per item for worst case\n",
    "\n",
    "    model = gp.Model(\"BinPacking\")\n",
    "    model.setParam(\"OutputFlag\", 0)\n",
    "\n",
    "    # Decision variables: x[i,j] = 1 if item i is in bin j, 0 otherwise\n",
    "    x = model.addVars(num_items, num_bins, vtype=GRB.BINARY, name=\"x\")\n",
    "\n",
    "    # Decision variables: y[j] = 1 if bin j is used, 0 otherwise\n",
    "    y = model.addVars(num_bins, vtype=GRB.BINARY, name=\"y\")\n",
    "\n",
    "    # Objective: Minimize the number of bins used\n",
    "    model.setObjective(gp.quicksum(y[j] for j in range(num_bins)), GRB.MINIMIZE)\n",
    "\n",
    "    # Constraints:\n",
    "    # 1. Each item must be placed in exactly one bin\n",
    "    for i in range(num_items):\n",
    "        model.addConstr(gp.quicksum(x[i, j] for j in range(num_bins)) == 1, name=f\"item_{i}_placement\")\n",
    "\n",
    "    # 2. The total weight in each bin must not exceed the bin capacity\n",
    "    for j in range(num_bins):\n",
    "        model.addConstr(gp.quicksum(weights[i] * x[i, j] for i in range(num_items)) <= bin_capacity * y[j],\n",
    "                        name=f\"bin_{j}_capacity\")\n",
    "\n",
    "    # Optimize the model\n",
    "    model.optimize()\n",
    "\n",
    "    # Output the solution\n",
    "    if model.status == GRB.OPTIMAL:\n",
    "        print(f\"\\nOptimal solution found using {int(sum(y[j].x for j in range(num_bins)))} bins:\")\n",
    "        for j in range(num_bins):\n",
    "            if y[j].x > 0.5:  # Bin j is used\n",
    "                print(f\"Bin {j} contains items: \", end=\"\")\n",
    "                for i in range(num_items):\n",
    "                    if x[i, j].x > 0.5:\n",
    "                        print(f\"Item {i} (weight: {weights[i]}), \", end=\"\")\n",
    "                print()\n",
    "\n",
    "    return model"
   ]
  },
  {
   "cell_type": "markdown",
   "metadata": {},
   "source": [
    "## ILP to QUBO Conversion for Bin Packing Problem\n",
    "The following cell shows how to convert a Bin Packing ILP (Integer Linear Programming) problem to a QUBO (Quadratic Unconstrained Binary Optimization) format.\n",
    "\n",
    "The function `ilp_to_qubo(weights, bin_capacity, penalty_weight=10)` converts the bin packing problem into a QUBO problem.\n",
    "- **Arguments:**\n",
    "  - `weights`: A list containing the weights of the items.\n",
    "  - `bin_capacity`: The maximum capacity of each bin.\n",
    "  - `penalty_weight`: A parameter used to control the penalty applied for constraint violations.\n",
    "\n",
    "### Step 1: Initialize Variables and QUBO Matrix\n",
    "- **Number of Items and Bins:**\n",
    "  - `num_items` is the total number of items.\n",
    "  - `num_bins` is set equal to `num_items` for the worst-case scenario where each item has its own bin.\n",
    "- **QUBO Matrix (`Q`):**\n",
    "  - A QUBO matrix `Q` is initialized with dimensions `(total_vars, total_vars)` where `total_vars` is the number of `x` and `y` decision variables.\n",
    "\n",
    "### Step 2: Objective Function\n",
    "- **Minimize Bin Usage:**\n",
    "  - The goal is to minimize the number of bins used, which is represented by minimizing `y[j]` for all bins `j`.\n",
    "  - The penalty for using bin `j` is added to `Q[y_index(j), y_index(j)]`.\n",
    "\n",
    "### Step 3: Item Placement Constraints\n",
    "- **Ensure Each Item is in Exactly One Bin:**\n",
    "  - A penalty is added for any pair of placements that assign the same item `i` to more than one bin (`j` and `k`).\n",
    "  - This ensures that each item is assigned to only one bin.\n",
    "\n",
    "### Step 4: Linking Items and Bins\n",
    "- **Linking `x_ij` and `y_j`:**\n",
    "  - A negative interaction term is added between `x[i, j]` and `y[j]` to encourage that if item `i` is placed in bin `j`, then bin `j` is also marked as used.\n",
    "\n",
    "### Step 5: Bin Capacity Constraints\n",
    "- **Enforce Bin Capacity:**\n",
    "  - A penalty is applied if the combined weight of items assigned to the same bin exceeds the bin's capacity.\n",
    "  - This ensures that no bin exceeds its capacity, penalizing over-capacity combinations."
   ]
  },
  {
   "cell_type": "code",
   "execution_count": 5,
   "metadata": {},
   "outputs": [],
   "source": [
    "def ilp_to_qubo(weights, bin_capacity, penalty_weight=10):\n",
    "    num_items = len(weights)\n",
    "    num_bins = num_items  # At most one bin per item for worst case\n",
    "    # Total variables: x variables for each item-bin pair + y variables for each bin\n",
    "    total_vars = num_bins * num_items + num_bins\n",
    "\n",
    "    Q = np.zeros((total_vars, total_vars))\n",
    "\n",
    "    # Index functions for x and y variables\n",
    "    def x_index(i, j):\n",
    "        return i * num_bins + j\n",
    "\n",
    "    def y_index(j):\n",
    "        return num_items * num_bins + j\n",
    "\n",
    "    # Objective to minimize the number of bins used (minimize y_j)\n",
    "    for j in range(num_bins):\n",
    "        Q[y_index(j), y_index(j)] += penalty_weight  # Penalty for using bin j\n",
    "\n",
    "    # Constraints:\n",
    "    # Each item must be placed in exactly one bin\n",
    "    for i in range(num_items):\n",
    "        for j in range(num_bins):\n",
    "            for k in range(num_bins):\n",
    "                if j != k:\n",
    "                    # Large penalty for placing item i in more than one bin\n",
    "                    Q[x_index(i, j), x_index(i, k)] += penalty_weight\n",
    "\n",
    "    # Link x_ij and y_j to ensure y_j is 1 if any x_ij is 1\n",
    "    for i in range(num_items):\n",
    "        for j in range(num_bins):\n",
    "            Q[x_index(i, j), y_index(j)] -= 2 * penalty_weight  # Encourage if item i is in bin j, then bin j is used\n",
    "\n",
    "    # Bin capacity constraints\n",
    "    for j in range(num_bins):\n",
    "        for i in range(num_items):\n",
    "            for k in range(i + 1, num_items):\n",
    "                if weights[i] + weights[k] > bin_capacity:\n",
    "                    # Penalty if the combined weight of i and k in bin j exceeds capacity\n",
    "                    Q[x_index(i, j), x_index(k, j)] += penalty_weight * (weights[i] + weights[k] - bin_capacity)\n",
    "\n",
    "    return Q"
   ]
  },
  {
   "cell_type": "markdown",
   "metadata": {},
   "source": [
    "## Brute Force Solver\n",
    "We first work with a brute-force approach to solving a Quadratic Unconstrained Binary Optimization (QUBO) problem by evaluating all possible combinations of binary variable assignments.\n",
    "\n",
    "The function `brute_force_qubo(Q)` solves a QUBO problem by exhaustively searching all possible solutions.\n",
    "- **Arguments:**\n",
    "  - `Q`: A matrix representing the QUBO problem.\n",
    "\n",
    "### Complexity and Limitations\n",
    "- The brute-force approach works well for small QUBO problems.\n",
    "- However, the number of possible solutions grows exponentially as the number of variables increases (`2^n` combinations for `n` variables).\n",
    "- This approach is computationally infeasible for large QUBO problems due to the sheer number of combinations to evaluate."
   ]
  },
  {
   "cell_type": "code",
   "execution_count": 6,
   "metadata": {},
   "outputs": [],
   "source": [
    "def brute_force_qubo(Q):\n",
    "    num_variables = Q.shape[0]\n",
    "    best_solution = None\n",
    "    best_value = float(\"inf\")\n",
    "\n",
    "    # Generate all possible binary combinations (0 or 1)\n",
    "    for solution in product([0, 1], repeat=num_variables):\n",
    "        # Calculate the objective value for this solution\n",
    "        solution = np.array(solution)\n",
    "        value = solution @ Q @ solution.T\n",
    "\n",
    "        # If it's the best solution so far, update the best solution\n",
    "        if value < best_value:\n",
    "            best_value = value\n",
    "            best_solution = solution\n",
    "\n",
    "    return best_solution, best_value"
   ]
  },
  {
   "cell_type": "markdown",
   "metadata": {},
   "source": [
    "## DWave Solver\n",
    "Then, we show how to solve a Quadratic Unconstrained Binary Optimization (QUBO) problem using D-Wave’s simulated annealing solver.\n",
    "\n",
    "The function `dwave_qubo_solver(Q)` solves a given QUBO problem using D-Wave's quantum annealing simulator.\n",
    "- **Arguments:**\n",
    "  - `Q`: A QUBO matrix representing the quadratic objective function to minimize.\n",
    "\n",
    "D-Wave's simulated annealer is used here to find the solution in a way that approximates the behavior of a quantum annealer, making it useful for tackling problems with a large solution space.\n",
    "\n",
    "### Limitations\n",
    "- The approach relies on a classical simulator (`SimulatedAnnealingSampler`), which might be computationally limited compared to using an actual quantum annealer.\n",
    "- The quality of the solution depends on the number of reads (`num_reads`) and how well the sampler explores the solution space.\n",
    "\n"
   ]
  },
  {
   "cell_type": "code",
   "execution_count": 7,
   "metadata": {},
   "outputs": [],
   "source": [
    "def dwave_qubo_solver(Q):\n",
    "    # Convert the QUBO matrix to the format expected by D-Wave's solver\n",
    "    qubo = {(i, j): Q[i, j] for i in range(len(Q)) for j in range(len(Q)) if Q[i, j] != 0}\n",
    "\n",
    "    # Use D-Wave’s quantum annealing simulator\n",
    "    sampler = SimulatedAnnealingSampler()\n",
    "    response = sampler.sample_qubo(qubo, num_reads=100)\n",
    "\n",
    "    # Extract the best solution and energy (objective value)\n",
    "    best_sample = response.first.sample\n",
    "    best_energy = response.first.energy\n",
    "\n",
    "    return best_sample, best_energy"
   ]
  },
  {
   "cell_type": "markdown",
   "metadata": {},
   "source": [
    "## VQE Solver\n",
    "We then explore how to convert a Quadratic Unconstrained Binary Optimization (QUBO) problem into an Ising Hamiltonian and solve it using a hybrid Variational Quantum Eigensolver (VQE) approach.\n",
    "\n",
    "### Step 1: Convert QUBO to Ising Hamiltonian\n",
    "- **Function: `qubo_to_ising(qubo)`**\n",
    "  - Converts the QUBO matrix to an Ising Hamiltonian represented as a `SparsePauliOp`.\n",
    "  - The Ising Hamiltonian is used as the objective function for the quantum VQE solver.\n",
    "  - **Arguments:**\n",
    "    - `qubo`: The QUBO matrix.\n",
    "  - **Output:**\n",
    "    - `hamiltonian`: The Ising Hamiltonian represented as a Pauli operator.\n",
    "    - `offset`: An offset value from converting the self-interaction terms.\n",
    "\n",
    "### Step 2: Define the Quantum Ansatz\n",
    "- **Function: `create_ansatz(num_qubits, depth=1)`**\n",
    "  - Creates a parameterized quantum circuit (ansatz) for VQE.\n",
    "  - **Arguments:**\n",
    "    - `num_qubits`: The number of qubits used for the ansatz.\n",
    "    - `depth`: The depth of the ansatz, determining the number of rotation-entanglement layers.\n",
    "  - **Output:**\n",
    "    - `qc`: The parameterized quantum circuit.\n",
    "    - `params`: A list of parameters for optimization.\n",
    "\n",
    "### Step 3: Solve QUBO Using VQE\n",
    "- **Function: `solve_qubo_vqe(qubo, ansatz_depth=1)`**\n",
    "  - Uses a Variational Quantum Eigensolver (VQE) to find the minimum eigenvalue of the Ising Hamiltonian.\n",
    "  - Converts the QUBO to Ising form, creates an ansatz, and optimizes the Hamiltonian using VQE.\n",
    "  - **Output:**\n",
    "    - `best_solution_vector`: The binary vector representing the optimal solution.\n",
    "    - `adjusted_energy`: The corresponding eigenvalue with the added offset."
   ]
  },
  {
   "cell_type": "code",
   "execution_count": 8,
   "metadata": {},
   "outputs": [],
   "source": [
    "def qubo_to_ising(qubo):\n",
    "    num_qubits = len(qubo)\n",
    "    pauli_list = []\n",
    "    offset = 0\n",
    "    for i in range(num_qubits):\n",
    "        for j in range(num_qubits):\n",
    "            if i == j:\n",
    "                offset += qubo[i][i]\n",
    "                z_string = ['I'] * num_qubits\n",
    "                z_string[i] = 'Z'\n",
    "                pauli_list.append((qubo[i][i] / 2, ''.join(z_string)))\n",
    "            elif i < j:\n",
    "                weight = qubo[i][j]\n",
    "                z_string = ['I'] * num_qubits\n",
    "                z_string[i] = 'Z'\n",
    "                z_string[j] = 'Z'\n",
    "                pauli_list.append((weight / 4, ''.join(z_string)))\n",
    "    coeffs = [term[0] for term in pauli_list]\n",
    "    paulis = [term[1] for term in pauli_list]\n",
    "    hamiltonian = SparsePauliOp.from_list(list(zip(paulis, coeffs)))\n",
    "    return hamiltonian, offset\n",
    "\n",
    "\n",
    "# Define a simple ansatz\n",
    "def create_ansatz(num_qubits, depth=1):\n",
    "    qc = QuantumCircuit(num_qubits)\n",
    "    params = [Parameter(f\"θ_{i}\") for i in range(num_qubits * depth)]\n",
    "    count = 0\n",
    "    for _ in range(depth):\n",
    "        for qubit in range(num_qubits):\n",
    "            qc.rx(params[count], qubit)\n",
    "            count += 1\n",
    "        for qubit in range(num_qubits - 1):\n",
    "            qc.cx(qubit, qubit + 1)\n",
    "    return qc, params\n",
    "\n",
    "\n",
    "# Hybrid VQE Solver\n",
    "def solve_qubo_vqe(qubo, ansatz_depth=1):\n",
    "    # Convert QUBO to Ising\n",
    "    hamiltonian, offset = qubo_to_ising(qubo)\n",
    "\n",
    "    # Define the ansatz\n",
    "    num_qubits = len(qubo)\n",
    "    ansatz, params = create_ansatz(num_qubits, ansatz_depth)\n",
    "\n",
    "    # Estimator setup for VQE\n",
    "    backend = AerSimulator()\n",
    "    estimator = Estimator()\n",
    "    vqe_solver = VQE(estimator, ansatz, optimizer=COBYLA())\n",
    "\n",
    "    # Run the VQE\n",
    "    result = vqe_solver.compute_minimum_eigenvalue(operator=hamiltonian)\n",
    "\n",
    "    sampled_circuit = ansatz.assign_parameters({param: value for param, value in zip(params, result.optimal_point)})\n",
    "    sampled_circuit.measure_all()\n",
    "    job = backend.run(sampled_circuit, shots=1024)\n",
    "    counts = job.result().get_counts()\n",
    "    best_solution_str = max(counts, key=counts.get)\n",
    "    best_solution_vector = np.array([int(bit) for bit in best_solution_str[::-1]])\n",
    "\n",
    "    return best_solution_vector, result.eigenvalue.real + offset"
   ]
  },
  {
   "cell_type": "markdown",
   "metadata": {},
   "source": [
    "## QAOA Solver\n",
    "Then, we explore how to solve a Quadratic Unconstrained Binary Optimization (QUBO) problem using the Quantum Approximate Optimization Algorithm (QAOA).\n",
    "\n",
    "### Step 1: Initialize the QAOA Class\n",
    "- **Class: `QAOA`**\n",
    "  - The `QAOA` class is used to solve a given QUBO problem by constructing a QAOA quantum circuit and optimizing its parameters.\n",
    "  - **Attributes:**\n",
    "    - `qubo`: QUBO matrix representing the problem to be solved.\n",
    "    - `p`: Number of layers in the QAOA circuit.\n",
    "    - `num_qubits`: Number of qubits, equivalent to the size of the QUBO matrix.\n",
    "    - `hamiltonian`: The Ising Hamiltonian representation derived from the QUBO matrix.\n",
    "    - `backend`: Quantum backend for simulation (`AerSimulator`).\n",
    "\n",
    "### Step 2: Create the QAOA Circuit\n",
    "- **Function: `create_qaoa_circuit(self, params)`**\n",
    "  - Creates a parameterized QAOA circuit based on the input parameters.\n",
    "  - **Initial Layer**:\n",
    "    - Applies Hadamard gates to all qubits to put them in a uniform superposition.\n",
    "  - **Problem and Mixer Unitaries**:\n",
    "    - Alternates between applying the problem unitary (`RZ` rotations) to encode the QUBO problem and the mixer unitary (`RX` rotations) to explore the solution space.\n",
    "  - **Arguments**:\n",
    "    - `params`: The parameters (`betas` and `gammas`) to be optimized.\n",
    "  - **Output**:\n",
    "    - Returns the parameterized QAOA quantum circuit.\n",
    "\n",
    "### Step 3: Run QAOA Optimization\n",
    "- **Function: `run_qaoa(self, initial_params=None)`**\n",
    "  - Uses a classical optimizer to find the optimal parameters for the QAOA circuit that minimize the QUBO objective function.\n",
    "  - **Optimization**:\n",
    "    - Uses the `COBYLA` optimizer to minimize the objective function.\n",
    "    - After finding the optimal parameters, the final circuit is run again to determine the best solution.\n",
    "  - **Output**:\n",
    "    - Returns the optimal solution vector (`best_solution_vector`) and its corresponding objective value (`best_value`).\n"
   ]
  },
  {
   "cell_type": "code",
   "execution_count": 9,
   "metadata": {},
   "outputs": [],
   "source": [
    "class QAOA:\n",
    "    def __init__(self, qubo, p=1):\n",
    "        self.qubo = qubo\n",
    "        self.p = p\n",
    "        self.num_qubits = len(qubo)\n",
    "        self.hamiltonian, self.offset = qubo_to_ising(qubo)\n",
    "        self.backend = AerSimulator()\n",
    "    \n",
    "    def create_qaoa_circuit(self, params):\n",
    "        betas = params[:self.p]\n",
    "        gammas = params[self.p:]\n",
    "        qc = QuantumCircuit(self.num_qubits)\n",
    "        # Initial layer of Hadamard gates\n",
    "        qc.h(range(self.num_qubits))\n",
    "        # Apply p layers of QAOA\n",
    "        for beta, gamma in zip(betas, gammas):\n",
    "            # Problem unitary\n",
    "            for i in range(self.num_qubits):\n",
    "                for j in range(self.num_qubits):\n",
    "                    if i != j and self.qubo[i][j] != 0:\n",
    "                        qc.cx(i, j)\n",
    "                        qc.rz(2 * gamma * self.qubo[i][j], j)\n",
    "                        qc.cx(i, j)\n",
    "            for i in range(self.num_qubits):\n",
    "                qc.rz(2 * gamma * self.qubo[i][i], i)\n",
    "            # Mixer unitary\n",
    "            for i in range(self.num_qubits):\n",
    "                qc.rx(2 * beta, i)\n",
    "        return qc\n",
    "\n",
    "    def run_qaoa(self, initial_params=None):\n",
    "        if initial_params is None:\n",
    "            initial_params = np.random.uniform(0, 2 * np.pi, 2 * self.p)\n",
    "        \n",
    "        def objective_function(params):\n",
    "            qc = self.create_qaoa_circuit(params)\n",
    "            qc.measure_all()\n",
    "            job = self.backend.run(qc, shots=1024)\n",
    "            counts = job.result().get_counts()\n",
    "            energy = 0\n",
    "            for bitstring, count in counts.items():\n",
    "                z = np.array([1 if bit == '0' else -1 for bit in bitstring[::-1]])\n",
    "                energy += count * (z.T @ self.qubo @ z)\n",
    "            return energy / 1024\n",
    "        \n",
    "        result = minimize(objective_function, initial_params, method='COBYLA')\n",
    "        optimal_params = result.x\n",
    "        qc = self.create_qaoa_circuit(optimal_params)\n",
    "        qc.measure_all()\n",
    "        job = self.backend.run(qc, shots=1024)\n",
    "        counts = job.result().get_counts()\n",
    "        best_solution_str = max(counts, key=counts.get)\n",
    "        best_solution_vector = np.array([int(bit) for bit in best_solution_str[::-1]])\n",
    "        best_value = best_solution_vector.T @ self.qubo @ best_solution_vector\n",
    "        return best_solution_vector, best_value"
   ]
  },
  {
   "cell_type": "markdown",
   "metadata": {},
   "source": [
    "## Ansatz\n",
    "We can explore two common Ansatz types:\n",
    "\n",
    "- **Layered Ansatz:** Layers of rotation and entanglement gates to explore the solution space.\n",
    "- **Hardware-efficient Ansatz:** Closely maps to hardware capabilities with minimal gates"
   ]
  },
  {
   "cell_type": "code",
   "execution_count": 10,
   "metadata": {},
   "outputs": [],
   "source": [
    "def layered_ansatz(n_qubits, depth):\n",
    "    qc = QuantumCircuit(n_qubits)\n",
    "    params = [Parameter(f\"theta_{i}\") for i in range(n_qubits * depth * 2)]\n",
    "    param_index = 0\n",
    "    for _ in range(depth):\n",
    "        for i in range(n_qubits):\n",
    "            qc.rx(params[param_index], i)\n",
    "            qc.ry(params[param_index + 1], i)\n",
    "            param_index += 2\n",
    "        for i in range(n_qubits - 1):\n",
    "            qc.cx(i, i + 1)\n",
    "    return qc, params"
   ]
  },
  {
   "cell_type": "code",
   "execution_count": 11,
   "metadata": {},
   "outputs": [],
   "source": [
    "def hardware_efficient_ansatz(n_qubits, depth):\n",
    "    qc = QuantumCircuit(n_qubits)\n",
    "    for _ in range(depth):\n",
    "        for i in range(n_qubits):\n",
    "            qc.rx(np.pi / 4, i)\n",
    "            qc.ry(np.pi / 4, i)\n",
    "            qc.rz(np.pi / 4, i)\n",
    "        for i in range(n_qubits - 1):\n",
    "            qc.cx(i, i + 1)\n",
    "    return qc"
   ]
  },
  {
   "cell_type": "markdown",
   "metadata": {},
   "source": [
    "## Small Example"
   ]
  },
  {
   "cell_type": "code",
   "execution_count": 13,
   "metadata": {},
   "outputs": [
    {
     "name": "stdout",
     "output_type": "stream",
     "text": [
      "Testing small instance ILP:\n",
      "\n",
      "Optimal solution found using 2 bins:\n",
      "Bin 0 contains items: Item 0 (weight: 1), Item 1 (weight: 1), \n",
      "Bin 1 contains items: Item 2 (weight: 2), \n",
      "\n",
      "Testing the QUBO transformation:\n",
      "[[  0.  10.  10.   0.   0.   0.  10.   0.   0. -20.   0.   0.]\n",
      " [ 10.   0.  10.   0.   0.   0.   0.  10.   0.   0. -20.   0.]\n",
      " [ 10.  10.   0.   0.   0.   0.   0.   0.  10.   0.   0. -20.]\n",
      " [  0.   0.   0.   0.  10.  10.  10.   0.   0. -20.   0.   0.]\n",
      " [  0.   0.   0.  10.   0.  10.   0.  10.   0.   0. -20.   0.]\n",
      " [  0.   0.   0.  10.  10.   0.   0.   0.  10.   0.   0. -20.]\n",
      " [  0.   0.   0.   0.   0.   0.   0.  10.  10. -20.   0.   0.]\n",
      " [  0.   0.   0.   0.   0.   0.  10.   0.  10.   0. -20.   0.]\n",
      " [  0.   0.   0.   0.   0.   0.  10.  10.   0.   0.   0. -20.]\n",
      " [  0.   0.   0.   0.   0.   0.   0.   0.   0.  10.   0.   0.]\n",
      " [  0.   0.   0.   0.   0.   0.   0.   0.   0.   0.  10.   0.]\n",
      " [  0.   0.   0.   0.   0.   0.   0.   0.   0.   0.   0.  10.]]\n"
     ]
    }
   ],
   "source": [
    "weights_small = [1, 1, 2]\n",
    "bin_capacity_small = 2\n",
    "print(\"Testing small instance ILP:\")\n",
    "model_small = bin_packing_ilp(weights_small, bin_capacity_small)\n",
    "\n",
    "print(\"\\nTesting the QUBO transformation:\")\n",
    "Q_small = ilp_to_qubo(weights_small, bin_capacity_small, penalty_weight=10)\n",
    "print(Q_small)"
   ]
  },
  {
   "cell_type": "code",
   "execution_count": 14,
   "metadata": {},
   "outputs": [
    {
     "name": "stdout",
     "output_type": "stream",
     "text": [
      "Brute Force Solution:\n",
      "Best Solution: [0 0 1 0 0 1 0 1 0 0 1 1]\n",
      "Best Value: -40.0\n"
     ]
    }
   ],
   "source": [
    "# Solve using Brute Force\n",
    "best_solution_bf, best_value_bf = brute_force_qubo(Q_small)\n",
    "print(\"Brute Force Solution:\")\n",
    "print(\"Best Solution:\", best_solution_bf)\n",
    "print(\"Best Value:\", best_value_bf)"
   ]
  },
  {
   "cell_type": "markdown",
   "metadata": {},
   "source": [
    "## Brute Force Solution \n",
    "\n",
    "The output of the brute force solution on the QUBO matrix gives:\n",
    "```\n",
    "[0 0 1 0 0 1 0 1 0 0 1 1]\n",
    "```\n",
    "This represents the values for the \\(x_{ij}\\) and \\(y_j\\) variables:\n",
    "- **\\(x_{ij}\\) Variables**: These are grouped in threes for each of the three items across three bins:\n",
    "  - `0 0 1` for Item 0, indicating it is placed in Bin 2.\n",
    "  - `0 0 1` for Item 1, also indicating it is placed in Bin 2.\n",
    "  - `0 1 0` for Item 2, indicating it is placed in Bin 1.\n",
    "- **\\(y_j\\) Variables**: \n",
    "  - `0 1 1` for Bins 0, 1, and 2, indicating that Bin 1 and Bin 2 are used.\n",
    "\n",
    "\n",
    "- **Items in Bins**: Items 0 and 1 are placed in Bin 2, and Item 2 is in Bin 1. This is a valid packing arrangement given the bin capacity of 2, as both Item 0 and Item 1 individually have weights that can fit together in Bin 2 without exceeding the capacity, while Item 2 exactly fits in Bin 1. \n",
    "- **Bin Usage**: The solution correctly identifies that Bins 1 and 2 are needed and used, consistent with needing two bins to fit all items without violating the capacity constraints."
   ]
  },
  {
   "cell_type": "code",
   "execution_count": 15,
   "metadata": {},
   "outputs": [
    {
     "name": "stdout",
     "output_type": "stream",
     "text": [
      "D-Wave Solution:\n",
      "Best Solution: [0 0 1 0 0 1 0 1 0 0 1 1]\n",
      "Best Value: -40.0\n"
     ]
    }
   ],
   "source": [
    "# Solve using D-Wave simulator\n",
    "best_solution_qa, best_value_qa = dwave_qubo_solver(Q_small)\n",
    "print(\"D-Wave Solution:\")\n",
    "print(\"Best Solution:\", np.array(list(best_solution_qa.values()), dtype=np.int8))\n",
    "print(\"Best Value:\", best_value_qa)"
   ]
  },
  {
   "cell_type": "code",
   "execution_count": 16,
   "metadata": {},
   "outputs": [
    {
     "name": "stderr",
     "output_type": "stream",
     "text": [
      "/var/folders/l3/773m_fwj2gx_g_w1fggfcdgw0000gn/T/ipykernel_2851/2172156421.py:49: DeprecationWarning: The class ``qiskit.primitives.estimator.Estimator`` is deprecated as of qiskit 1.2. It will be removed no earlier than 3 months after the release date. All implementations of the `BaseEstimatorV1` interface have been deprecated in favor of their V2 counterparts. The V2 alternative for the `Estimator` class is `StatevectorEstimator`.\n",
      "  estimator = Estimator()\n"
     ]
    },
    {
     "name": "stdout",
     "output_type": "stream",
     "text": [
      "VQE Solution:\n",
      "Best Solution: [1 1 0 1 1 1 1 1 0 1 1 1]\n",
      "Best Value: -2.499999739167208\n"
     ]
    }
   ],
   "source": [
    "best_solution_vector, best_value_vqe = solve_qubo_vqe(Q_small, ansatz_depth=1)\n",
    "print(\"VQE Solution:\")\n",
    "print(\"Best Solution:\", best_solution_vector)\n",
    "print(\"Best Value:\", best_value_vqe)"
   ]
  },
  {
   "cell_type": "code",
   "execution_count": 17,
   "metadata": {},
   "outputs": [
    {
     "name": "stdout",
     "output_type": "stream",
     "text": [
      "QAOA Solution:\n",
      "Best Solution: [0 1 0 0 1 1 0 0 1 0 1 1]\n",
      "Best Value: -30.0\n"
     ]
    }
   ],
   "source": [
    "qaoa_solver = QAOA(Q_small, 1)\n",
    "best_solution_vector, best_value_qaoa = qaoa_solver.run_qaoa()\n",
    "print(\"QAOA Solution:\")\n",
    "print(\"Best Solution:\", best_solution_vector)\n",
    "print(\"Best Value:\", best_value_qaoa)"
   ]
  },
  {
   "cell_type": "markdown",
   "metadata": {},
   "source": [
    "## Analysis of Solutions for Small Bin Packing Example\n",
    "\n",
    "We analyse the performance of different algorithms in solving a small instance of the bin packing problem.\n",
    "\n",
    "The Integer Linear Programming (ILP) solution found the optimal configuration using **2 bins**:\n",
    "- **Bin 0** contains items: Item 0 (weight: 1) and Item 1 (weight: 1)\n",
    "- **Bin 1** contains items: Item 2 (weight: 2)\n",
    "\n",
    "This solution represents the optimal configuration with a minimal number of bins and satisfies the capacity constraints for both bins.\n",
    "\n",
    "The brute force solution identified the same optimal solution as the ILP, which confirms correctness.\n",
    "\n",
    "The D-Wave solution found the same best solution and energy as the brute force solution. This suggests that the quantum annealer was able to converge to an optimal solution for this small instance, matching the ILP and brute force results.\n",
    "\n",
    "The VQE solution differs significantly from the other methods:\n",
    "- The **solution vector** is not consistent with the optimal configuration provided by ILP.\n",
    "- The **best value** is much higher (less negative), indicating that VQE struggled to find a solution as optimal as ILP, brute force, or D-Wave.\n",
    "\n",
    "The QAOA solution also did not match the optimal configuration found by the ILP or D-Wave, but it was better than the VQE solution. QAOA, being an approximate algorithm, likely got close but did not reach the optimal solution for this instance. It may have been limited by the depth (`p`) of the circuit or suboptimal parameter choices.\n",
    "\n",
    "### Key Takeaways\n",
    "- **ILP and Brute Force** are reliable methods for solving this small instance and provide the optimal solution.\n",
    "- **D-Wave** was able to find the optimal solution, showcasing the potential of quantum annealing for solving combinatorial optimization problems.\n",
    "- **VQE and QAOA** performed less optimally compared to the other methods, possibly due to limitations in parameter optimization, circuit depth, or noise in the simulation. These methods may require more sophisticated tuning or deeper circuits to match the performance of classical or quantum annealing approaches for this problem size.\n"
   ]
  },
  {
   "cell_type": "markdown",
   "metadata": {},
   "source": [
    "## Medium Example"
   ]
  },
  {
   "cell_type": "code",
   "execution_count": 24,
   "metadata": {},
   "outputs": [
    {
     "name": "stdout",
     "output_type": "stream",
     "text": [
      "Testing medium instance ILP:\n",
      "\n",
      "Optimal solution found using 4 bins:\n",
      "Bin 0 contains items: Item 1 (weight: 6), \n",
      "Bin 1 contains items: Item 2 (weight: 7), \n",
      "Bin 2 contains items: Item 0 (weight: 5), \n",
      "Bin 3 contains items: Item 3 (weight: 4), \n",
      "\n",
      "Testing the QUBO transformation:\n",
      "[[  0.  10.  10.  10.  40.   0.   0.   0.  50.   0.   0.   0.  20.   0.\n",
      "    0.   0. -20.   0.   0.   0.]\n",
      " [ 10.   0.  10.  10.   0.  40.   0.   0.   0.  50.   0.   0.   0.  20.\n",
      "    0.   0.   0. -20.   0.   0.]\n",
      " [ 10.  10.   0.  10.   0.   0.  40.   0.   0.   0.  50.   0.   0.   0.\n",
      "   20.   0.   0.   0. -20.   0.]\n",
      " [ 10.  10.  10.   0.   0.   0.   0.  40.   0.   0.   0.  50.   0.   0.\n",
      "    0.  20.   0.   0.   0. -20.]\n",
      " [  0.   0.   0.   0.   0.  10.  10.  10.  60.   0.   0.   0.  30.   0.\n",
      "    0.   0. -20.   0.   0.   0.]\n",
      " [  0.   0.   0.   0.  10.   0.  10.  10.   0.  60.   0.   0.   0.  30.\n",
      "    0.   0.   0. -20.   0.   0.]\n",
      " [  0.   0.   0.   0.  10.  10.   0.  10.   0.   0.  60.   0.   0.   0.\n",
      "   30.   0.   0.   0. -20.   0.]\n",
      " [  0.   0.   0.   0.  10.  10.  10.   0.   0.   0.   0.  60.   0.   0.\n",
      "    0.  30.   0.   0.   0. -20.]\n",
      " [  0.   0.   0.   0.   0.   0.   0.   0.   0.  10.  10.  10.  40.   0.\n",
      "    0.   0. -20.   0.   0.   0.]\n",
      " [  0.   0.   0.   0.   0.   0.   0.   0.  10.   0.  10.  10.   0.  40.\n",
      "    0.   0.   0. -20.   0.   0.]\n",
      " [  0.   0.   0.   0.   0.   0.   0.   0.  10.  10.   0.  10.   0.   0.\n",
      "   40.   0.   0.   0. -20.   0.]\n",
      " [  0.   0.   0.   0.   0.   0.   0.   0.  10.  10.  10.   0.   0.   0.\n",
      "    0.  40.   0.   0.   0. -20.]\n",
      " [  0.   0.   0.   0.   0.   0.   0.   0.   0.   0.   0.   0.   0.  10.\n",
      "   10.  10. -20.   0.   0.   0.]\n",
      " [  0.   0.   0.   0.   0.   0.   0.   0.   0.   0.   0.   0.  10.   0.\n",
      "   10.  10.   0. -20.   0.   0.]\n",
      " [  0.   0.   0.   0.   0.   0.   0.   0.   0.   0.   0.   0.  10.  10.\n",
      "    0.  10.   0.   0. -20.   0.]\n",
      " [  0.   0.   0.   0.   0.   0.   0.   0.   0.   0.   0.   0.  10.  10.\n",
      "   10.   0.   0.   0.   0. -20.]\n",
      " [  0.   0.   0.   0.   0.   0.   0.   0.   0.   0.   0.   0.   0.   0.\n",
      "    0.   0.  10.   0.   0.   0.]\n",
      " [  0.   0.   0.   0.   0.   0.   0.   0.   0.   0.   0.   0.   0.   0.\n",
      "    0.   0.   0.  10.   0.   0.]\n",
      " [  0.   0.   0.   0.   0.   0.   0.   0.   0.   0.   0.   0.   0.   0.\n",
      "    0.   0.   0.   0.  10.   0.]\n",
      " [  0.   0.   0.   0.   0.   0.   0.   0.   0.   0.   0.   0.   0.   0.\n",
      "    0.   0.   0.   0.   0.  10.]]\n"
     ]
    }
   ],
   "source": [
    "weights_medium = [5, 6, 7, 4]\n",
    "bin_capacity_medium = 7\n",
    "print(\"Testing medium instance ILP:\")\n",
    "model_medium = bin_packing_ilp(weights_medium, bin_capacity_medium)\n",
    "\n",
    "print(\"\\nTesting the QUBO transformation:\")\n",
    "Q_medium = ilp_to_qubo(weights_medium, bin_capacity_medium, penalty_weight=10)\n",
    "print(Q_medium)"
   ]
  },
  {
   "cell_type": "code",
   "execution_count": 25,
   "metadata": {},
   "outputs": [
    {
     "name": "stdout",
     "output_type": "stream",
     "text": [
      "Brute Force Solution:\n",
      "Best Solution: [0 0 0 1 0 0 1 0 0 1 0 0 1 0 0 0 1 1 1 1]\n",
      "Best Value: -40.0\n"
     ]
    }
   ],
   "source": [
    "# Solve using Brute Force \n",
    "best_solution_bf, best_value_bf = brute_force_qubo(Q_medium)\n",
    "print(\"Brute Force Solution:\")\n",
    "print(\"Best Solution:\", best_solution_bf)\n",
    "print(\"Best Value:\", best_value_bf)"
   ]
  },
  {
   "cell_type": "code",
   "execution_count": 26,
   "metadata": {},
   "outputs": [
    {
     "name": "stdout",
     "output_type": "stream",
     "text": [
      "D-Wave Solution:\n",
      "Best Solution: [0 0 0 1 1 0 0 0 0 1 0 0 0 0 1 0 1 1 1 1]\n",
      "Best Value: -40.0\n"
     ]
    }
   ],
   "source": [
    "# Solve using D-Wave simulator\n",
    "best_solution_qa, best_value_qa = dwave_qubo_solver(Q_medium)\n",
    "print(\"D-Wave Solution:\")\n",
    "print(\"Best Solution:\", np.array(list(best_solution_qa.values()), dtype=np.int8))\n",
    "print(\"Best Value:\", best_value_qa)"
   ]
  },
  {
   "cell_type": "code",
   "execution_count": 27,
   "metadata": {},
   "outputs": [
    {
     "name": "stderr",
     "output_type": "stream",
     "text": [
      "/var/folders/l3/773m_fwj2gx_g_w1fggfcdgw0000gn/T/ipykernel_2851/2172156421.py:49: DeprecationWarning: The class ``qiskit.primitives.estimator.Estimator`` is deprecated as of qiskit 1.2. It will be removed no earlier than 3 months after the release date. All implementations of the `BaseEstimatorV1` interface have been deprecated in favor of their V2 counterparts. The V2 alternative for the `Estimator` class is `StatevectorEstimator`.\n",
      "  estimator = Estimator()\n"
     ]
    },
    {
     "name": "stdout",
     "output_type": "stream",
     "text": [
      "VQE Solution:\n",
      "Best Solution: [1 1 1 1 0 0 0 1 1 0 1 0 0 0 0 0 1 1 1 0]\n",
      "Best Value: -69.99999948253425\n"
     ]
    }
   ],
   "source": [
    "best_solution_vector, best_value_vqe = solve_qubo_vqe(Q_medium, ansatz_depth=1)\n",
    "print(\"VQE Solution:\")\n",
    "print(\"Best Solution:\", best_solution_vector)\n",
    "print(\"Best Value:\", best_value_vqe)"
   ]
  },
  {
   "cell_type": "code",
   "execution_count": 28,
   "metadata": {},
   "outputs": [
    {
     "name": "stdout",
     "output_type": "stream",
     "text": [
      "QAOA Solution:\n",
      "Best Solution: [1 1 1 1 0 1 1 0 1 0 0 1 1 0 0 1 1 0 0 0]\n",
      "Best Value: 430.0\n"
     ]
    }
   ],
   "source": [
    "qaoa_solver = QAOA(Q_medium, 1)\n",
    "best_solution_vector, best_value_qaoa = qaoa_solver.run_qaoa()\n",
    "print(\"QAOA Solution:\")\n",
    "print(\"Best Solution:\", best_solution_vector)\n",
    "print(\"Best Value:\", best_value_qaoa)"
   ]
  },
  {
   "cell_type": "markdown",
   "metadata": {},
   "source": [
    "## Big Example"
   ]
  },
  {
   "cell_type": "code",
   "execution_count": 12,
   "metadata": {},
   "outputs": [
    {
     "name": "stdout",
     "output_type": "stream",
     "text": [
      "Testing big instance ILP:\n",
      "\n",
      "Optimal solution found using 4 bins:\n",
      "Bin 0 contains items: Item 0 (weight: 1), Item 1 (weight: 5), Item 8 (weight: 9), \n",
      "Bin 2 contains items: Item 4 (weight: 8), Item 5 (weight: 3), Item 9 (weight: 3), \n",
      "Bin 3 contains items: Item 3 (weight: 7), \n",
      "Bin 4 contains items: Item 2 (weight: 3), Item 6 (weight: 7), Item 7 (weight: 2), \n",
      "\n",
      "Testing the QUBO transformation:\n",
      "[[ 0. 10. 10. ...  0.  0.  0.]\n",
      " [10.  0. 10. ...  0.  0.  0.]\n",
      " [10. 10.  0. ...  0.  0.  0.]\n",
      " ...\n",
      " [ 0.  0.  0. ... 10.  0.  0.]\n",
      " [ 0.  0.  0. ...  0. 10.  0.]\n",
      " [ 0.  0.  0. ...  0.  0. 10.]]\n"
     ]
    }
   ],
   "source": [
    "weights_big = [random.randint(1, 10) for _ in range(10)] # Random weights\n",
    "bin_capacity_big = 15\n",
    "print(\"Testing big instance ILP:\")\n",
    "model_big = bin_packing_ilp(weights_big, bin_capacity_big)\n",
    "\n",
    "print(\"\\nTesting the QUBO transformation:\")\n",
    "Q_big = ilp_to_qubo(weights_big, bin_capacity_big)\n",
    "print(Q_big)"
   ]
  },
  {
   "cell_type": "code",
   "execution_count": null,
   "metadata": {},
   "outputs": [],
   "source": [
    "# Solve using Brute Force\n",
    "# best_solution_bf, best_value_bf = brute_force_qubo(Q_big)\n",
    "# print(\"Brute Force Solution:\")\n",
    "# print(\"Best Solution:\", best_solution_bf)\n",
    "# print(\"Best Value:\", best_value_bf)"
   ]
  },
  {
   "cell_type": "code",
   "execution_count": 13,
   "metadata": {},
   "outputs": [
    {
     "name": "stdout",
     "output_type": "stream",
     "text": [
      "D-Wave Solution:\n",
      "Best Solution: [0 0 0 0 0 0 0 0 1 0 0 0 0 0 1 0 0 1 0 0 0 0 0 0 1 0 0 1 0 0 0 0 0 0 0 0 0\n",
      " 0 1 0 0 0 0 0 0 0 0 1 1 0 0 0 0 0 0 0 0 0 1 0 0 0 0 0 0 0 0 1 1 0 0 0 0 0\n",
      " 0 0 0 1 0 0 0 0 0 0 1 0 0 0 0 0 0 0 0 0 0 0 0 1 0 0 0 0 0 0 1 0 0 1 1 0]\n",
      "Best Value: -170.0\n"
     ]
    }
   ],
   "source": [
    "# Solve using D-Wave simulator\n",
    "best_solution_qa, best_value_qa = dwave_qubo_solver(Q_big)\n",
    "print(\"D-Wave Solution:\")\n",
    "print(\"Best Solution:\", np.array(list(best_solution_qa.values()), dtype=np.int8))\n",
    "print(\"Best Value:\", best_value_qa)"
   ]
  },
  {
   "cell_type": "code",
   "execution_count": 15,
   "metadata": {},
   "outputs": [
    {
     "name": "stderr",
     "output_type": "stream",
     "text": [
      "/var/folders/l3/773m_fwj2gx_g_w1fggfcdgw0000gn/T/ipykernel_5980/2172156421.py:49: DeprecationWarning: The class ``qiskit.primitives.estimator.Estimator`` is deprecated as of qiskit 1.2. It will be removed no earlier than 3 months after the release date. All implementations of the `BaseEstimatorV1` interface have been deprecated in favor of their V2 counterparts. The V2 alternative for the `Estimator` class is `StatevectorEstimator`.\n",
      "  estimator = Estimator()\n"
     ]
    },
    {
     "ename": "AlgorithmError",
     "evalue": "'The primitive job to evaluate the energy failed!'",
     "output_type": "error",
     "traceback": [
      "\u001b[0;31m---------------------------------------------------------------------------\u001b[0m",
      "\u001b[0;31mValueError\u001b[0m                                Traceback (most recent call last)",
      "File \u001b[0;32m~/Documents/projects/qsof/.venv/lib/python3.12/site-packages/qiskit_algorithms/minimum_eigensolvers/vqe.py:266\u001b[0m, in \u001b[0;36mVQE._get_evaluate_energy.<locals>.evaluate_energy\u001b[0;34m(parameters)\u001b[0m\n\u001b[1;32m    265\u001b[0m     job \u001b[38;5;241m=\u001b[39m \u001b[38;5;28mself\u001b[39m\u001b[38;5;241m.\u001b[39mestimator\u001b[38;5;241m.\u001b[39mrun(batch_size \u001b[38;5;241m*\u001b[39m [ansatz], batch_size \u001b[38;5;241m*\u001b[39m [operator], parameters)\n\u001b[0;32m--> 266\u001b[0m     estimator_result \u001b[38;5;241m=\u001b[39m \u001b[43mjob\u001b[49m\u001b[38;5;241;43m.\u001b[39;49m\u001b[43mresult\u001b[49m\u001b[43m(\u001b[49m\u001b[43m)\u001b[49m\n\u001b[1;32m    267\u001b[0m \u001b[38;5;28;01mexcept\u001b[39;00m \u001b[38;5;167;01mException\u001b[39;00m \u001b[38;5;28;01mas\u001b[39;00m exc:\n",
      "File \u001b[0;32m~/Documents/projects/qsof/.venv/lib/python3.12/site-packages/qiskit/primitives/primitive_job.py:51\u001b[0m, in \u001b[0;36mPrimitiveJob.result\u001b[0;34m(self)\u001b[0m\n\u001b[1;32m     50\u001b[0m \u001b[38;5;28mself\u001b[39m\u001b[38;5;241m.\u001b[39m_check_submitted()\n\u001b[0;32m---> 51\u001b[0m \u001b[38;5;28;01mreturn\u001b[39;00m \u001b[38;5;28;43mself\u001b[39;49m\u001b[38;5;241;43m.\u001b[39;49m\u001b[43m_future\u001b[49m\u001b[38;5;241;43m.\u001b[39;49m\u001b[43mresult\u001b[49m\u001b[43m(\u001b[49m\u001b[43m)\u001b[49m\n",
      "File \u001b[0;32m/opt/homebrew/Cellar/python@3.12/3.12.4/Frameworks/Python.framework/Versions/3.12/lib/python3.12/concurrent/futures/_base.py:449\u001b[0m, in \u001b[0;36mFuture.result\u001b[0;34m(self, timeout)\u001b[0m\n\u001b[1;32m    448\u001b[0m \u001b[38;5;28;01melif\u001b[39;00m \u001b[38;5;28mself\u001b[39m\u001b[38;5;241m.\u001b[39m_state \u001b[38;5;241m==\u001b[39m FINISHED:\n\u001b[0;32m--> 449\u001b[0m     \u001b[38;5;28;01mreturn\u001b[39;00m \u001b[38;5;28;43mself\u001b[39;49m\u001b[38;5;241;43m.\u001b[39;49m\u001b[43m__get_result\u001b[49m\u001b[43m(\u001b[49m\u001b[43m)\u001b[49m\n\u001b[1;32m    451\u001b[0m \u001b[38;5;28mself\u001b[39m\u001b[38;5;241m.\u001b[39m_condition\u001b[38;5;241m.\u001b[39mwait(timeout)\n",
      "File \u001b[0;32m/opt/homebrew/Cellar/python@3.12/3.12.4/Frameworks/Python.framework/Versions/3.12/lib/python3.12/concurrent/futures/_base.py:401\u001b[0m, in \u001b[0;36mFuture.__get_result\u001b[0;34m(self)\u001b[0m\n\u001b[1;32m    400\u001b[0m \u001b[38;5;28;01mtry\u001b[39;00m:\n\u001b[0;32m--> 401\u001b[0m     \u001b[38;5;28;01mraise\u001b[39;00m \u001b[38;5;28mself\u001b[39m\u001b[38;5;241m.\u001b[39m_exception\n\u001b[1;32m    402\u001b[0m \u001b[38;5;28;01mfinally\u001b[39;00m:\n\u001b[1;32m    403\u001b[0m     \u001b[38;5;66;03m# Break a reference cycle with the exception in self._exception\u001b[39;00m\n",
      "File \u001b[0;32m/opt/homebrew/Cellar/python@3.12/3.12.4/Frameworks/Python.framework/Versions/3.12/lib/python3.12/concurrent/futures/thread.py:58\u001b[0m, in \u001b[0;36m_WorkItem.run\u001b[0;34m(self)\u001b[0m\n\u001b[1;32m     57\u001b[0m \u001b[38;5;28;01mtry\u001b[39;00m:\n\u001b[0;32m---> 58\u001b[0m     result \u001b[38;5;241m=\u001b[39m \u001b[38;5;28;43mself\u001b[39;49m\u001b[38;5;241;43m.\u001b[39;49m\u001b[43mfn\u001b[49m\u001b[43m(\u001b[49m\u001b[38;5;241;43m*\u001b[39;49m\u001b[38;5;28;43mself\u001b[39;49m\u001b[38;5;241;43m.\u001b[39;49m\u001b[43margs\u001b[49m\u001b[43m,\u001b[49m\u001b[43m \u001b[49m\u001b[38;5;241;43m*\u001b[39;49m\u001b[38;5;241;43m*\u001b[39;49m\u001b[38;5;28;43mself\u001b[39;49m\u001b[38;5;241;43m.\u001b[39;49m\u001b[43mkwargs\u001b[49m\u001b[43m)\u001b[49m\n\u001b[1;32m     59\u001b[0m \u001b[38;5;28;01mexcept\u001b[39;00m \u001b[38;5;167;01mBaseException\u001b[39;00m \u001b[38;5;28;01mas\u001b[39;00m exc:\n",
      "File \u001b[0;32m~/Documents/projects/qsof/.venv/lib/python3.12/site-packages/qiskit/primitives/estimator.py:115\u001b[0m, in \u001b[0;36mEstimator._call\u001b[0;34m(self, circuits, observables, parameter_values, **run_options)\u001b[0m\n\u001b[1;32m    111\u001b[0m     \u001b[38;5;28;01mraise\u001b[39;00m QiskitError(\n\u001b[1;32m    112\u001b[0m         \u001b[38;5;124mf\u001b[39m\u001b[38;5;124m\"\u001b[39m\u001b[38;5;124mThe number of qubits of a circuit (\u001b[39m\u001b[38;5;132;01m{\u001b[39;00mcirc\u001b[38;5;241m.\u001b[39mnum_qubits\u001b[38;5;132;01m}\u001b[39;00m\u001b[38;5;124m) does not match \u001b[39m\u001b[38;5;124m\"\u001b[39m\n\u001b[1;32m    113\u001b[0m         \u001b[38;5;124mf\u001b[39m\u001b[38;5;124m\"\u001b[39m\u001b[38;5;124mthe number of qubits of a observable (\u001b[39m\u001b[38;5;132;01m{\u001b[39;00mobs\u001b[38;5;241m.\u001b[39mnum_qubits\u001b[38;5;132;01m}\u001b[39;00m\u001b[38;5;124m).\u001b[39m\u001b[38;5;124m\"\u001b[39m\n\u001b[1;32m    114\u001b[0m     )\n\u001b[0;32m--> 115\u001b[0m final_state \u001b[38;5;241m=\u001b[39m \u001b[43mStatevector\u001b[49m\u001b[43m(\u001b[49m\u001b[43mbound_circuit_to_instruction\u001b[49m\u001b[43m(\u001b[49m\u001b[43mcirc\u001b[49m\u001b[43m)\u001b[49m\u001b[43m)\u001b[49m\n\u001b[1;32m    116\u001b[0m expectation_value \u001b[38;5;241m=\u001b[39m final_state\u001b[38;5;241m.\u001b[39mexpectation_value(obs)\n",
      "File \u001b[0;32m~/Documents/projects/qsof/.venv/lib/python3.12/site-packages/qiskit/quantum_info/states/statevector.py:93\u001b[0m, in \u001b[0;36mStatevector.__init__\u001b[0;34m(self, data, dims)\u001b[0m\n\u001b[1;32m     92\u001b[0m \u001b[38;5;28;01melif\u001b[39;00m \u001b[38;5;28misinstance\u001b[39m(data, (QuantumCircuit, Instruction)):\n\u001b[0;32m---> 93\u001b[0m     \u001b[38;5;28mself\u001b[39m\u001b[38;5;241m.\u001b[39m_data \u001b[38;5;241m=\u001b[39m \u001b[43mStatevector\u001b[49m\u001b[38;5;241;43m.\u001b[39;49m\u001b[43mfrom_instruction\u001b[49m\u001b[43m(\u001b[49m\u001b[43mdata\u001b[49m\u001b[43m)\u001b[49m\u001b[38;5;241m.\u001b[39mdata\n\u001b[1;32m     94\u001b[0m \u001b[38;5;28;01melse\u001b[39;00m:\n",
      "File \u001b[0;32m~/Documents/projects/qsof/.venv/lib/python3.12/site-packages/qiskit/quantum_info/states/statevector.py:764\u001b[0m, in \u001b[0;36mStatevector.from_instruction\u001b[0;34m(cls, instruction)\u001b[0m\n\u001b[1;32m    763\u001b[0m \u001b[38;5;66;03m# Initialize an the statevector in the all |0> state\u001b[39;00m\n\u001b[0;32m--> 764\u001b[0m init \u001b[38;5;241m=\u001b[39m \u001b[43mnp\u001b[49m\u001b[38;5;241;43m.\u001b[39;49m\u001b[43mzeros\u001b[49m\u001b[43m(\u001b[49m\u001b[38;5;241;43m2\u001b[39;49m\u001b[38;5;241;43m*\u001b[39;49m\u001b[38;5;241;43m*\u001b[39;49m\u001b[43minstruction\u001b[49m\u001b[38;5;241;43m.\u001b[39;49m\u001b[43mnum_qubits\u001b[49m\u001b[43m,\u001b[49m\u001b[43m \u001b[49m\u001b[43mdtype\u001b[49m\u001b[38;5;241;43m=\u001b[39;49m\u001b[38;5;28;43mcomplex\u001b[39;49m\u001b[43m)\u001b[49m\n\u001b[1;32m    765\u001b[0m init[\u001b[38;5;241m0\u001b[39m] \u001b[38;5;241m=\u001b[39m \u001b[38;5;241m1.0\u001b[39m\n",
      "\u001b[0;31mValueError\u001b[0m: Maximum allowed dimension exceeded",
      "\nThe above exception was the direct cause of the following exception:\n",
      "\u001b[0;31mAlgorithmError\u001b[0m                            Traceback (most recent call last)",
      "Cell \u001b[0;32mIn[15], line 1\u001b[0m\n\u001b[0;32m----> 1\u001b[0m best_solution_vector, best_value_vqe \u001b[38;5;241m=\u001b[39m \u001b[43msolve_qubo_vqe\u001b[49m\u001b[43m(\u001b[49m\u001b[43mQ_big\u001b[49m\u001b[43m,\u001b[49m\u001b[43m \u001b[49m\u001b[43mansatz_depth\u001b[49m\u001b[38;5;241;43m=\u001b[39;49m\u001b[38;5;241;43m2\u001b[39;49m\u001b[43m)\u001b[49m\n\u001b[1;32m      2\u001b[0m \u001b[38;5;28mprint\u001b[39m(\u001b[38;5;124m\"\u001b[39m\u001b[38;5;124mVQE Solution:\u001b[39m\u001b[38;5;124m\"\u001b[39m)\n\u001b[1;32m      3\u001b[0m \u001b[38;5;28mprint\u001b[39m(\u001b[38;5;124m\"\u001b[39m\u001b[38;5;124mBest Solution:\u001b[39m\u001b[38;5;124m\"\u001b[39m, best_solution_vector)\n",
      "Cell \u001b[0;32mIn[8], line 53\u001b[0m, in \u001b[0;36msolve_qubo_vqe\u001b[0;34m(qubo, ansatz_depth)\u001b[0m\n\u001b[1;32m     50\u001b[0m vqe_solver \u001b[38;5;241m=\u001b[39m VQE(estimator, ansatz, optimizer\u001b[38;5;241m=\u001b[39mCOBYLA())\n\u001b[1;32m     52\u001b[0m \u001b[38;5;66;03m# Run the VQE\u001b[39;00m\n\u001b[0;32m---> 53\u001b[0m result \u001b[38;5;241m=\u001b[39m \u001b[43mvqe_solver\u001b[49m\u001b[38;5;241;43m.\u001b[39;49m\u001b[43mcompute_minimum_eigenvalue\u001b[49m\u001b[43m(\u001b[49m\u001b[43moperator\u001b[49m\u001b[38;5;241;43m=\u001b[39;49m\u001b[43mhamiltonian\u001b[49m\u001b[43m)\u001b[49m\n\u001b[1;32m     55\u001b[0m sampled_circuit \u001b[38;5;241m=\u001b[39m ansatz\u001b[38;5;241m.\u001b[39massign_parameters({param: value \u001b[38;5;28;01mfor\u001b[39;00m param, value \u001b[38;5;129;01min\u001b[39;00m \u001b[38;5;28mzip\u001b[39m(params, result\u001b[38;5;241m.\u001b[39moptimal_point)})\n\u001b[1;32m     56\u001b[0m sampled_circuit\u001b[38;5;241m.\u001b[39mmeasure_all()\n",
      "File \u001b[0;32m~/Documents/projects/qsof/.venv/lib/python3.12/site-packages/qiskit_algorithms/minimum_eigensolvers/vqe.py:194\u001b[0m, in \u001b[0;36mVQE.compute_minimum_eigenvalue\u001b[0;34m(self, operator, aux_operators)\u001b[0m\n\u001b[1;32m    189\u001b[0m \u001b[38;5;28;01melse\u001b[39;00m:\n\u001b[1;32m    190\u001b[0m     \u001b[38;5;66;03m# we always want to submit as many estimations per job as possible for minimal\u001b[39;00m\n\u001b[1;32m    191\u001b[0m     \u001b[38;5;66;03m# overhead on the hardware\u001b[39;00m\n\u001b[1;32m    192\u001b[0m     was_updated \u001b[38;5;241m=\u001b[39m _set_default_batchsize(\u001b[38;5;28mself\u001b[39m\u001b[38;5;241m.\u001b[39moptimizer)\n\u001b[0;32m--> 194\u001b[0m     optimizer_result \u001b[38;5;241m=\u001b[39m \u001b[38;5;28;43mself\u001b[39;49m\u001b[38;5;241;43m.\u001b[39;49m\u001b[43moptimizer\u001b[49m\u001b[38;5;241;43m.\u001b[39;49m\u001b[43mminimize\u001b[49m\u001b[43m(\u001b[49m\n\u001b[1;32m    195\u001b[0m \u001b[43m        \u001b[49m\u001b[43mfun\u001b[49m\u001b[38;5;241;43m=\u001b[39;49m\u001b[43mevaluate_energy\u001b[49m\u001b[43m,\u001b[49m\u001b[43m  \u001b[49m\u001b[38;5;66;43;03m# type: ignore[arg-type]\u001b[39;49;00m\n\u001b[1;32m    196\u001b[0m \u001b[43m        \u001b[49m\u001b[43mx0\u001b[49m\u001b[38;5;241;43m=\u001b[39;49m\u001b[43minitial_point\u001b[49m\u001b[43m,\u001b[49m\n\u001b[1;32m    197\u001b[0m \u001b[43m        \u001b[49m\u001b[43mjac\u001b[49m\u001b[38;5;241;43m=\u001b[39;49m\u001b[43mevaluate_gradient\u001b[49m\u001b[43m,\u001b[49m\u001b[43m  \u001b[49m\u001b[38;5;66;43;03m# type: ignore[arg-type]\u001b[39;49;00m\n\u001b[1;32m    198\u001b[0m \u001b[43m        \u001b[49m\u001b[43mbounds\u001b[49m\u001b[38;5;241;43m=\u001b[39;49m\u001b[43mbounds\u001b[49m\u001b[43m,\u001b[49m\n\u001b[1;32m    199\u001b[0m \u001b[43m    \u001b[49m\u001b[43m)\u001b[49m\n\u001b[1;32m    201\u001b[0m     \u001b[38;5;66;03m# reset to original value\u001b[39;00m\n\u001b[1;32m    202\u001b[0m     \u001b[38;5;28;01mif\u001b[39;00m was_updated:\n",
      "File \u001b[0;32m~/Documents/projects/qsof/.venv/lib/python3.12/site-packages/qiskit_algorithms/optimizers/scipy_optimizer.py:148\u001b[0m, in \u001b[0;36mSciPyOptimizer.minimize\u001b[0;34m(self, fun, x0, jac, bounds)\u001b[0m\n\u001b[1;32m    145\u001b[0m     swapped_deprecated_args \u001b[38;5;241m=\u001b[39m \u001b[38;5;28;01mTrue\u001b[39;00m\n\u001b[1;32m    146\u001b[0m     \u001b[38;5;28mself\u001b[39m\u001b[38;5;241m.\u001b[39m_options[\u001b[38;5;124m\"\u001b[39m\u001b[38;5;124mmaxfun\u001b[39m\u001b[38;5;124m\"\u001b[39m] \u001b[38;5;241m=\u001b[39m \u001b[38;5;28mself\u001b[39m\u001b[38;5;241m.\u001b[39m_options\u001b[38;5;241m.\u001b[39mpop(\u001b[38;5;124m\"\u001b[39m\u001b[38;5;124mmaxiter\u001b[39m\u001b[38;5;124m\"\u001b[39m)\n\u001b[0;32m--> 148\u001b[0m raw_result \u001b[38;5;241m=\u001b[39m \u001b[43mminimize\u001b[49m\u001b[43m(\u001b[49m\n\u001b[1;32m    149\u001b[0m \u001b[43m    \u001b[49m\u001b[43mfun\u001b[49m\u001b[38;5;241;43m=\u001b[39;49m\u001b[43mfun\u001b[49m\u001b[43m,\u001b[49m\n\u001b[1;32m    150\u001b[0m \u001b[43m    \u001b[49m\u001b[43mx0\u001b[49m\u001b[38;5;241;43m=\u001b[39;49m\u001b[43mx0\u001b[49m\u001b[43m,\u001b[49m\n\u001b[1;32m    151\u001b[0m \u001b[43m    \u001b[49m\u001b[43mmethod\u001b[49m\u001b[38;5;241;43m=\u001b[39;49m\u001b[38;5;28;43mself\u001b[39;49m\u001b[38;5;241;43m.\u001b[39;49m\u001b[43m_method\u001b[49m\u001b[43m,\u001b[49m\n\u001b[1;32m    152\u001b[0m \u001b[43m    \u001b[49m\u001b[43mjac\u001b[49m\u001b[38;5;241;43m=\u001b[39;49m\u001b[43mjac\u001b[49m\u001b[43m,\u001b[49m\n\u001b[1;32m    153\u001b[0m \u001b[43m    \u001b[49m\u001b[43mbounds\u001b[49m\u001b[38;5;241;43m=\u001b[39;49m\u001b[43mbounds\u001b[49m\u001b[43m,\u001b[49m\n\u001b[1;32m    154\u001b[0m \u001b[43m    \u001b[49m\u001b[43moptions\u001b[49m\u001b[38;5;241;43m=\u001b[39;49m\u001b[38;5;28;43mself\u001b[39;49m\u001b[38;5;241;43m.\u001b[39;49m\u001b[43m_options\u001b[49m\u001b[43m,\u001b[49m\n\u001b[1;32m    155\u001b[0m \u001b[43m    \u001b[49m\u001b[38;5;241;43m*\u001b[39;49m\u001b[38;5;241;43m*\u001b[39;49m\u001b[38;5;28;43mself\u001b[39;49m\u001b[38;5;241;43m.\u001b[39;49m\u001b[43m_kwargs\u001b[49m\u001b[43m,\u001b[49m\n\u001b[1;32m    156\u001b[0m \u001b[43m\u001b[49m\u001b[43m)\u001b[49m\n\u001b[1;32m    157\u001b[0m \u001b[38;5;28;01mif\u001b[39;00m swapped_deprecated_args:\n\u001b[1;32m    158\u001b[0m     \u001b[38;5;28mself\u001b[39m\u001b[38;5;241m.\u001b[39m_options[\u001b[38;5;124m\"\u001b[39m\u001b[38;5;124mmaxiter\u001b[39m\u001b[38;5;124m\"\u001b[39m] \u001b[38;5;241m=\u001b[39m \u001b[38;5;28mself\u001b[39m\u001b[38;5;241m.\u001b[39m_options\u001b[38;5;241m.\u001b[39mpop(\u001b[38;5;124m\"\u001b[39m\u001b[38;5;124mmaxfun\u001b[39m\u001b[38;5;124m\"\u001b[39m)\n",
      "File \u001b[0;32m~/Documents/projects/qsof/.venv/lib/python3.12/site-packages/scipy/optimize/_minimize.py:737\u001b[0m, in \u001b[0;36mminimize\u001b[0;34m(fun, x0, args, method, jac, hess, hessp, bounds, constraints, tol, callback, options)\u001b[0m\n\u001b[1;32m    734\u001b[0m     res \u001b[38;5;241m=\u001b[39m _minimize_tnc(fun, x0, args, jac, bounds, callback\u001b[38;5;241m=\u001b[39mcallback,\n\u001b[1;32m    735\u001b[0m                         \u001b[38;5;241m*\u001b[39m\u001b[38;5;241m*\u001b[39moptions)\n\u001b[1;32m    736\u001b[0m \u001b[38;5;28;01melif\u001b[39;00m meth \u001b[38;5;241m==\u001b[39m \u001b[38;5;124m'\u001b[39m\u001b[38;5;124mcobyla\u001b[39m\u001b[38;5;124m'\u001b[39m:\n\u001b[0;32m--> 737\u001b[0m     res \u001b[38;5;241m=\u001b[39m \u001b[43m_minimize_cobyla\u001b[49m\u001b[43m(\u001b[49m\u001b[43mfun\u001b[49m\u001b[43m,\u001b[49m\u001b[43m \u001b[49m\u001b[43mx0\u001b[49m\u001b[43m,\u001b[49m\u001b[43m \u001b[49m\u001b[43margs\u001b[49m\u001b[43m,\u001b[49m\u001b[43m \u001b[49m\u001b[43mconstraints\u001b[49m\u001b[43m,\u001b[49m\u001b[43m \u001b[49m\u001b[43mcallback\u001b[49m\u001b[38;5;241;43m=\u001b[39;49m\u001b[43mcallback\u001b[49m\u001b[43m,\u001b[49m\n\u001b[1;32m    738\u001b[0m \u001b[43m                           \u001b[49m\u001b[43mbounds\u001b[49m\u001b[38;5;241;43m=\u001b[39;49m\u001b[43mbounds\u001b[49m\u001b[43m,\u001b[49m\u001b[43m \u001b[49m\u001b[38;5;241;43m*\u001b[39;49m\u001b[38;5;241;43m*\u001b[39;49m\u001b[43moptions\u001b[49m\u001b[43m)\u001b[49m\n\u001b[1;32m    739\u001b[0m \u001b[38;5;28;01melif\u001b[39;00m meth \u001b[38;5;241m==\u001b[39m \u001b[38;5;124m'\u001b[39m\u001b[38;5;124mcobyqa\u001b[39m\u001b[38;5;124m'\u001b[39m:\n\u001b[1;32m    740\u001b[0m     res \u001b[38;5;241m=\u001b[39m _minimize_cobyqa(fun, x0, args, bounds, constraints, callback,\n\u001b[1;32m    741\u001b[0m                            \u001b[38;5;241m*\u001b[39m\u001b[38;5;241m*\u001b[39moptions)\n",
      "File \u001b[0;32m~/Documents/projects/qsof/.venv/lib/python3.12/site-packages/scipy/optimize/_cobyla_py.py:35\u001b[0m, in \u001b[0;36msynchronized.<locals>.wrapper\u001b[0;34m(*args, **kwargs)\u001b[0m\n\u001b[1;32m     32\u001b[0m \u001b[38;5;129m@functools\u001b[39m\u001b[38;5;241m.\u001b[39mwraps(func)\n\u001b[1;32m     33\u001b[0m \u001b[38;5;28;01mdef\u001b[39;00m \u001b[38;5;21mwrapper\u001b[39m(\u001b[38;5;241m*\u001b[39margs, \u001b[38;5;241m*\u001b[39m\u001b[38;5;241m*\u001b[39mkwargs):\n\u001b[1;32m     34\u001b[0m     \u001b[38;5;28;01mwith\u001b[39;00m _module_lock:\n\u001b[0;32m---> 35\u001b[0m         \u001b[38;5;28;01mreturn\u001b[39;00m \u001b[43mfunc\u001b[49m\u001b[43m(\u001b[49m\u001b[38;5;241;43m*\u001b[39;49m\u001b[43margs\u001b[49m\u001b[43m,\u001b[49m\u001b[43m \u001b[49m\u001b[38;5;241;43m*\u001b[39;49m\u001b[38;5;241;43m*\u001b[39;49m\u001b[43mkwargs\u001b[49m\u001b[43m)\u001b[49m\n",
      "File \u001b[0;32m~/Documents/projects/qsof/.venv/lib/python3.12/site-packages/scipy/optimize/_cobyla_py.py:278\u001b[0m, in \u001b[0;36m_minimize_cobyla\u001b[0;34m(fun, x0, args, constraints, rhobeg, tol, maxiter, disp, catol, callback, bounds, **unknown_options)\u001b[0m\n\u001b[1;32m    275\u001b[0m \u001b[38;5;28;01mdef\u001b[39;00m \u001b[38;5;21m_jac\u001b[39m(x, \u001b[38;5;241m*\u001b[39margs):\n\u001b[1;32m    276\u001b[0m     \u001b[38;5;28;01mreturn\u001b[39;00m \u001b[38;5;28;01mNone\u001b[39;00m\n\u001b[0;32m--> 278\u001b[0m sf \u001b[38;5;241m=\u001b[39m \u001b[43m_prepare_scalar_function\u001b[49m\u001b[43m(\u001b[49m\u001b[43mfun\u001b[49m\u001b[43m,\u001b[49m\u001b[43m \u001b[49m\u001b[43mx0\u001b[49m\u001b[43m,\u001b[49m\u001b[43m \u001b[49m\u001b[43margs\u001b[49m\u001b[38;5;241;43m=\u001b[39;49m\u001b[43margs\u001b[49m\u001b[43m,\u001b[49m\u001b[43m \u001b[49m\u001b[43mjac\u001b[49m\u001b[38;5;241;43m=\u001b[39;49m\u001b[43m_jac\u001b[49m\u001b[43m)\u001b[49m\n\u001b[1;32m    280\u001b[0m \u001b[38;5;28;01mdef\u001b[39;00m \u001b[38;5;21mcalcfc\u001b[39m(x, con):\n\u001b[1;32m    281\u001b[0m     f \u001b[38;5;241m=\u001b[39m sf\u001b[38;5;241m.\u001b[39mfun(x)\n",
      "File \u001b[0;32m~/Documents/projects/qsof/.venv/lib/python3.12/site-packages/scipy/optimize/_optimize.py:288\u001b[0m, in \u001b[0;36m_prepare_scalar_function\u001b[0;34m(fun, x0, jac, args, bounds, epsilon, finite_diff_rel_step, hess)\u001b[0m\n\u001b[1;32m    284\u001b[0m     bounds \u001b[38;5;241m=\u001b[39m (\u001b[38;5;241m-\u001b[39mnp\u001b[38;5;241m.\u001b[39minf, np\u001b[38;5;241m.\u001b[39minf)\n\u001b[1;32m    286\u001b[0m \u001b[38;5;66;03m# ScalarFunction caches. Reuse of fun(x) during grad\u001b[39;00m\n\u001b[1;32m    287\u001b[0m \u001b[38;5;66;03m# calculation reduces overall function evaluations.\u001b[39;00m\n\u001b[0;32m--> 288\u001b[0m sf \u001b[38;5;241m=\u001b[39m \u001b[43mScalarFunction\u001b[49m\u001b[43m(\u001b[49m\u001b[43mfun\u001b[49m\u001b[43m,\u001b[49m\u001b[43m \u001b[49m\u001b[43mx0\u001b[49m\u001b[43m,\u001b[49m\u001b[43m \u001b[49m\u001b[43margs\u001b[49m\u001b[43m,\u001b[49m\u001b[43m \u001b[49m\u001b[43mgrad\u001b[49m\u001b[43m,\u001b[49m\u001b[43m \u001b[49m\u001b[43mhess\u001b[49m\u001b[43m,\u001b[49m\n\u001b[1;32m    289\u001b[0m \u001b[43m                    \u001b[49m\u001b[43mfinite_diff_rel_step\u001b[49m\u001b[43m,\u001b[49m\u001b[43m \u001b[49m\u001b[43mbounds\u001b[49m\u001b[43m,\u001b[49m\u001b[43m \u001b[49m\u001b[43mepsilon\u001b[49m\u001b[38;5;241;43m=\u001b[39;49m\u001b[43mepsilon\u001b[49m\u001b[43m)\u001b[49m\n\u001b[1;32m    291\u001b[0m \u001b[38;5;28;01mreturn\u001b[39;00m sf\n",
      "File \u001b[0;32m~/Documents/projects/qsof/.venv/lib/python3.12/site-packages/scipy/optimize/_differentiable_functions.py:222\u001b[0m, in \u001b[0;36mScalarFunction.__init__\u001b[0;34m(self, fun, x0, args, grad, hess, finite_diff_rel_step, finite_diff_bounds, epsilon)\u001b[0m\n\u001b[1;32m    219\u001b[0m     finite_diff_options[\u001b[38;5;124m\"\u001b[39m\u001b[38;5;124mas_linear_operator\u001b[39m\u001b[38;5;124m\"\u001b[39m] \u001b[38;5;241m=\u001b[39m \u001b[38;5;28;01mTrue\u001b[39;00m\n\u001b[1;32m    221\u001b[0m \u001b[38;5;66;03m# Initial function evaluation\u001b[39;00m\n\u001b[0;32m--> 222\u001b[0m \u001b[38;5;28;43mself\u001b[39;49m\u001b[38;5;241;43m.\u001b[39;49m\u001b[43m_update_fun\u001b[49m\u001b[43m(\u001b[49m\u001b[43m)\u001b[49m\n\u001b[1;32m    224\u001b[0m \u001b[38;5;66;03m# Initial gradient evaluation\u001b[39;00m\n\u001b[1;32m    225\u001b[0m \u001b[38;5;28mself\u001b[39m\u001b[38;5;241m.\u001b[39m_wrapped_grad, \u001b[38;5;28mself\u001b[39m\u001b[38;5;241m.\u001b[39m_ngev \u001b[38;5;241m=\u001b[39m _wrapper_grad(\n\u001b[1;32m    226\u001b[0m     grad,\n\u001b[1;32m    227\u001b[0m     fun\u001b[38;5;241m=\u001b[39m\u001b[38;5;28mself\u001b[39m\u001b[38;5;241m.\u001b[39m_wrapped_fun,\n\u001b[1;32m    228\u001b[0m     args\u001b[38;5;241m=\u001b[39margs,\n\u001b[1;32m    229\u001b[0m     finite_diff_options\u001b[38;5;241m=\u001b[39mfinite_diff_options\n\u001b[1;32m    230\u001b[0m )\n",
      "File \u001b[0;32m~/Documents/projects/qsof/.venv/lib/python3.12/site-packages/scipy/optimize/_differentiable_functions.py:294\u001b[0m, in \u001b[0;36mScalarFunction._update_fun\u001b[0;34m(self)\u001b[0m\n\u001b[1;32m    292\u001b[0m \u001b[38;5;28;01mdef\u001b[39;00m \u001b[38;5;21m_update_fun\u001b[39m(\u001b[38;5;28mself\u001b[39m):\n\u001b[1;32m    293\u001b[0m     \u001b[38;5;28;01mif\u001b[39;00m \u001b[38;5;129;01mnot\u001b[39;00m \u001b[38;5;28mself\u001b[39m\u001b[38;5;241m.\u001b[39mf_updated:\n\u001b[0;32m--> 294\u001b[0m         fx \u001b[38;5;241m=\u001b[39m \u001b[38;5;28;43mself\u001b[39;49m\u001b[38;5;241;43m.\u001b[39;49m\u001b[43m_wrapped_fun\u001b[49m\u001b[43m(\u001b[49m\u001b[38;5;28;43mself\u001b[39;49m\u001b[38;5;241;43m.\u001b[39;49m\u001b[43mx\u001b[49m\u001b[43m)\u001b[49m\n\u001b[1;32m    295\u001b[0m         \u001b[38;5;28;01mif\u001b[39;00m fx \u001b[38;5;241m<\u001b[39m \u001b[38;5;28mself\u001b[39m\u001b[38;5;241m.\u001b[39m_lowest_f:\n\u001b[1;32m    296\u001b[0m             \u001b[38;5;28mself\u001b[39m\u001b[38;5;241m.\u001b[39m_lowest_x \u001b[38;5;241m=\u001b[39m \u001b[38;5;28mself\u001b[39m\u001b[38;5;241m.\u001b[39mx\n",
      "File \u001b[0;32m~/Documents/projects/qsof/.venv/lib/python3.12/site-packages/scipy/optimize/_differentiable_functions.py:20\u001b[0m, in \u001b[0;36m_wrapper_fun.<locals>.wrapped\u001b[0;34m(x)\u001b[0m\n\u001b[1;32m     16\u001b[0m ncalls[\u001b[38;5;241m0\u001b[39m] \u001b[38;5;241m+\u001b[39m\u001b[38;5;241m=\u001b[39m \u001b[38;5;241m1\u001b[39m\n\u001b[1;32m     17\u001b[0m \u001b[38;5;66;03m# Send a copy because the user may overwrite it.\u001b[39;00m\n\u001b[1;32m     18\u001b[0m \u001b[38;5;66;03m# Overwriting results in undefined behaviour because\u001b[39;00m\n\u001b[1;32m     19\u001b[0m \u001b[38;5;66;03m# fun(self.x) will change self.x, with the two no longer linked.\u001b[39;00m\n\u001b[0;32m---> 20\u001b[0m fx \u001b[38;5;241m=\u001b[39m \u001b[43mfun\u001b[49m\u001b[43m(\u001b[49m\u001b[43mnp\u001b[49m\u001b[38;5;241;43m.\u001b[39;49m\u001b[43mcopy\u001b[49m\u001b[43m(\u001b[49m\u001b[43mx\u001b[49m\u001b[43m)\u001b[49m\u001b[43m,\u001b[49m\u001b[43m \u001b[49m\u001b[38;5;241;43m*\u001b[39;49m\u001b[43margs\u001b[49m\u001b[43m)\u001b[49m\n\u001b[1;32m     21\u001b[0m \u001b[38;5;66;03m# Make sure the function returns a true scalar\u001b[39;00m\n\u001b[1;32m     22\u001b[0m \u001b[38;5;28;01mif\u001b[39;00m \u001b[38;5;129;01mnot\u001b[39;00m np\u001b[38;5;241m.\u001b[39misscalar(fx):\n",
      "File \u001b[0;32m~/Documents/projects/qsof/.venv/lib/python3.12/site-packages/qiskit_algorithms/minimum_eigensolvers/vqe.py:268\u001b[0m, in \u001b[0;36mVQE._get_evaluate_energy.<locals>.evaluate_energy\u001b[0;34m(parameters)\u001b[0m\n\u001b[1;32m    266\u001b[0m     estimator_result \u001b[38;5;241m=\u001b[39m job\u001b[38;5;241m.\u001b[39mresult()\n\u001b[1;32m    267\u001b[0m \u001b[38;5;28;01mexcept\u001b[39;00m \u001b[38;5;167;01mException\u001b[39;00m \u001b[38;5;28;01mas\u001b[39;00m exc:\n\u001b[0;32m--> 268\u001b[0m     \u001b[38;5;28;01mraise\u001b[39;00m AlgorithmError(\u001b[38;5;124m\"\u001b[39m\u001b[38;5;124mThe primitive job to evaluate the energy failed!\u001b[39m\u001b[38;5;124m\"\u001b[39m) \u001b[38;5;28;01mfrom\u001b[39;00m \u001b[38;5;21;01mexc\u001b[39;00m\n\u001b[1;32m    270\u001b[0m values \u001b[38;5;241m=\u001b[39m estimator_result\u001b[38;5;241m.\u001b[39mvalues\n\u001b[1;32m    272\u001b[0m \u001b[38;5;28;01mif\u001b[39;00m \u001b[38;5;28mself\u001b[39m\u001b[38;5;241m.\u001b[39mcallback \u001b[38;5;129;01mis\u001b[39;00m \u001b[38;5;129;01mnot\u001b[39;00m \u001b[38;5;28;01mNone\u001b[39;00m:\n",
      "\u001b[0;31mAlgorithmError\u001b[0m: 'The primitive job to evaluate the energy failed!'"
     ]
    }
   ],
   "source": [
    "best_solution_vector, best_value_vqe = solve_qubo_vqe(Q_big, ansatz_depth=2)\n",
    "print(\"VQE Solution:\")\n",
    "print(\"Best Solution:\", best_solution_vector)\n",
    "print(\"Best Value:\", best_value_vqe)"
   ]
  },
  {
   "cell_type": "code",
   "execution_count": 14,
   "metadata": {},
   "outputs": [
    {
     "name": "stderr",
     "output_type": "stream",
     "text": [
      "Simulation failed and returned the following error message:\n",
      "ERROR:  [Experiment 0] Insufficient memory to run circuit circuit-166 using the statevector simulator. Required memory: 18446744073709551615M, max memory: 18432M\n"
     ]
    },
    {
     "ename": "QiskitError",
     "evalue": "'ERROR:  [Experiment 0] Insufficient memory to run circuit circuit-166 using the statevector simulator. Required memory: 18446744073709551615M, max memory: 18432M ,  ERROR: Insufficient memory to run circuit circuit-166 using the statevector simulator. Required memory: 18446744073709551615M, max memory: 18432M'",
     "output_type": "error",
     "traceback": [
      "\u001b[0;31m---------------------------------------------------------------------------\u001b[0m",
      "\u001b[0;31mQiskitError\u001b[0m                               Traceback (most recent call last)",
      "Cell \u001b[0;32mIn[14], line 2\u001b[0m\n\u001b[1;32m      1\u001b[0m qaoa_solver \u001b[38;5;241m=\u001b[39m QAOA(Q_big, \u001b[38;5;241m2\u001b[39m)\n\u001b[0;32m----> 2\u001b[0m best_solution_vector, best_value_qaoa \u001b[38;5;241m=\u001b[39m \u001b[43mqaoa_solver\u001b[49m\u001b[38;5;241;43m.\u001b[39;49m\u001b[43mrun_qaoa\u001b[49m\u001b[43m(\u001b[49m\u001b[43m)\u001b[49m\n\u001b[1;32m      3\u001b[0m \u001b[38;5;28mprint\u001b[39m(\u001b[38;5;124m\"\u001b[39m\u001b[38;5;124mQAOA Solution:\u001b[39m\u001b[38;5;124m\"\u001b[39m)\n\u001b[1;32m      4\u001b[0m \u001b[38;5;28mprint\u001b[39m(\u001b[38;5;124m\"\u001b[39m\u001b[38;5;124mBest Solution:\u001b[39m\u001b[38;5;124m\"\u001b[39m, best_solution_vector)\n",
      "Cell \u001b[0;32mIn[9], line 46\u001b[0m, in \u001b[0;36mQAOA.run_qaoa\u001b[0;34m(self, initial_params)\u001b[0m\n\u001b[1;32m     43\u001b[0m         energy \u001b[38;5;241m+\u001b[39m\u001b[38;5;241m=\u001b[39m count \u001b[38;5;241m*\u001b[39m (z\u001b[38;5;241m.\u001b[39mT \u001b[38;5;241m@\u001b[39m \u001b[38;5;28mself\u001b[39m\u001b[38;5;241m.\u001b[39mqubo \u001b[38;5;241m@\u001b[39m z)\n\u001b[1;32m     44\u001b[0m     \u001b[38;5;28;01mreturn\u001b[39;00m energy \u001b[38;5;241m/\u001b[39m \u001b[38;5;241m1024\u001b[39m\n\u001b[0;32m---> 46\u001b[0m result \u001b[38;5;241m=\u001b[39m \u001b[43mminimize\u001b[49m\u001b[43m(\u001b[49m\u001b[43mobjective_function\u001b[49m\u001b[43m,\u001b[49m\u001b[43m \u001b[49m\u001b[43minitial_params\u001b[49m\u001b[43m,\u001b[49m\u001b[43m \u001b[49m\u001b[43mmethod\u001b[49m\u001b[38;5;241;43m=\u001b[39;49m\u001b[38;5;124;43m'\u001b[39;49m\u001b[38;5;124;43mCOBYLA\u001b[39;49m\u001b[38;5;124;43m'\u001b[39;49m\u001b[43m)\u001b[49m\n\u001b[1;32m     47\u001b[0m optimal_params \u001b[38;5;241m=\u001b[39m result\u001b[38;5;241m.\u001b[39mx\n\u001b[1;32m     48\u001b[0m qc \u001b[38;5;241m=\u001b[39m \u001b[38;5;28mself\u001b[39m\u001b[38;5;241m.\u001b[39mcreate_qaoa_circuit(optimal_params)\n",
      "File \u001b[0;32m~/Documents/projects/qsof/.venv/lib/python3.12/site-packages/scipy/optimize/_minimize.py:737\u001b[0m, in \u001b[0;36mminimize\u001b[0;34m(fun, x0, args, method, jac, hess, hessp, bounds, constraints, tol, callback, options)\u001b[0m\n\u001b[1;32m    734\u001b[0m     res \u001b[38;5;241m=\u001b[39m _minimize_tnc(fun, x0, args, jac, bounds, callback\u001b[38;5;241m=\u001b[39mcallback,\n\u001b[1;32m    735\u001b[0m                         \u001b[38;5;241m*\u001b[39m\u001b[38;5;241m*\u001b[39moptions)\n\u001b[1;32m    736\u001b[0m \u001b[38;5;28;01melif\u001b[39;00m meth \u001b[38;5;241m==\u001b[39m \u001b[38;5;124m'\u001b[39m\u001b[38;5;124mcobyla\u001b[39m\u001b[38;5;124m'\u001b[39m:\n\u001b[0;32m--> 737\u001b[0m     res \u001b[38;5;241m=\u001b[39m \u001b[43m_minimize_cobyla\u001b[49m\u001b[43m(\u001b[49m\u001b[43mfun\u001b[49m\u001b[43m,\u001b[49m\u001b[43m \u001b[49m\u001b[43mx0\u001b[49m\u001b[43m,\u001b[49m\u001b[43m \u001b[49m\u001b[43margs\u001b[49m\u001b[43m,\u001b[49m\u001b[43m \u001b[49m\u001b[43mconstraints\u001b[49m\u001b[43m,\u001b[49m\u001b[43m \u001b[49m\u001b[43mcallback\u001b[49m\u001b[38;5;241;43m=\u001b[39;49m\u001b[43mcallback\u001b[49m\u001b[43m,\u001b[49m\n\u001b[1;32m    738\u001b[0m \u001b[43m                           \u001b[49m\u001b[43mbounds\u001b[49m\u001b[38;5;241;43m=\u001b[39;49m\u001b[43mbounds\u001b[49m\u001b[43m,\u001b[49m\u001b[43m \u001b[49m\u001b[38;5;241;43m*\u001b[39;49m\u001b[38;5;241;43m*\u001b[39;49m\u001b[43moptions\u001b[49m\u001b[43m)\u001b[49m\n\u001b[1;32m    739\u001b[0m \u001b[38;5;28;01melif\u001b[39;00m meth \u001b[38;5;241m==\u001b[39m \u001b[38;5;124m'\u001b[39m\u001b[38;5;124mcobyqa\u001b[39m\u001b[38;5;124m'\u001b[39m:\n\u001b[1;32m    740\u001b[0m     res \u001b[38;5;241m=\u001b[39m _minimize_cobyqa(fun, x0, args, bounds, constraints, callback,\n\u001b[1;32m    741\u001b[0m                            \u001b[38;5;241m*\u001b[39m\u001b[38;5;241m*\u001b[39moptions)\n",
      "File \u001b[0;32m~/Documents/projects/qsof/.venv/lib/python3.12/site-packages/scipy/optimize/_cobyla_py.py:35\u001b[0m, in \u001b[0;36msynchronized.<locals>.wrapper\u001b[0;34m(*args, **kwargs)\u001b[0m\n\u001b[1;32m     32\u001b[0m \u001b[38;5;129m@functools\u001b[39m\u001b[38;5;241m.\u001b[39mwraps(func)\n\u001b[1;32m     33\u001b[0m \u001b[38;5;28;01mdef\u001b[39;00m \u001b[38;5;21mwrapper\u001b[39m(\u001b[38;5;241m*\u001b[39margs, \u001b[38;5;241m*\u001b[39m\u001b[38;5;241m*\u001b[39mkwargs):\n\u001b[1;32m     34\u001b[0m     \u001b[38;5;28;01mwith\u001b[39;00m _module_lock:\n\u001b[0;32m---> 35\u001b[0m         \u001b[38;5;28;01mreturn\u001b[39;00m \u001b[43mfunc\u001b[49m\u001b[43m(\u001b[49m\u001b[38;5;241;43m*\u001b[39;49m\u001b[43margs\u001b[49m\u001b[43m,\u001b[49m\u001b[43m \u001b[49m\u001b[38;5;241;43m*\u001b[39;49m\u001b[38;5;241;43m*\u001b[39;49m\u001b[43mkwargs\u001b[49m\u001b[43m)\u001b[49m\n",
      "File \u001b[0;32m~/Documents/projects/qsof/.venv/lib/python3.12/site-packages/scipy/optimize/_cobyla_py.py:278\u001b[0m, in \u001b[0;36m_minimize_cobyla\u001b[0;34m(fun, x0, args, constraints, rhobeg, tol, maxiter, disp, catol, callback, bounds, **unknown_options)\u001b[0m\n\u001b[1;32m    275\u001b[0m \u001b[38;5;28;01mdef\u001b[39;00m \u001b[38;5;21m_jac\u001b[39m(x, \u001b[38;5;241m*\u001b[39margs):\n\u001b[1;32m    276\u001b[0m     \u001b[38;5;28;01mreturn\u001b[39;00m \u001b[38;5;28;01mNone\u001b[39;00m\n\u001b[0;32m--> 278\u001b[0m sf \u001b[38;5;241m=\u001b[39m \u001b[43m_prepare_scalar_function\u001b[49m\u001b[43m(\u001b[49m\u001b[43mfun\u001b[49m\u001b[43m,\u001b[49m\u001b[43m \u001b[49m\u001b[43mx0\u001b[49m\u001b[43m,\u001b[49m\u001b[43m \u001b[49m\u001b[43margs\u001b[49m\u001b[38;5;241;43m=\u001b[39;49m\u001b[43margs\u001b[49m\u001b[43m,\u001b[49m\u001b[43m \u001b[49m\u001b[43mjac\u001b[49m\u001b[38;5;241;43m=\u001b[39;49m\u001b[43m_jac\u001b[49m\u001b[43m)\u001b[49m\n\u001b[1;32m    280\u001b[0m \u001b[38;5;28;01mdef\u001b[39;00m \u001b[38;5;21mcalcfc\u001b[39m(x, con):\n\u001b[1;32m    281\u001b[0m     f \u001b[38;5;241m=\u001b[39m sf\u001b[38;5;241m.\u001b[39mfun(x)\n",
      "File \u001b[0;32m~/Documents/projects/qsof/.venv/lib/python3.12/site-packages/scipy/optimize/_optimize.py:288\u001b[0m, in \u001b[0;36m_prepare_scalar_function\u001b[0;34m(fun, x0, jac, args, bounds, epsilon, finite_diff_rel_step, hess)\u001b[0m\n\u001b[1;32m    284\u001b[0m     bounds \u001b[38;5;241m=\u001b[39m (\u001b[38;5;241m-\u001b[39mnp\u001b[38;5;241m.\u001b[39minf, np\u001b[38;5;241m.\u001b[39minf)\n\u001b[1;32m    286\u001b[0m \u001b[38;5;66;03m# ScalarFunction caches. Reuse of fun(x) during grad\u001b[39;00m\n\u001b[1;32m    287\u001b[0m \u001b[38;5;66;03m# calculation reduces overall function evaluations.\u001b[39;00m\n\u001b[0;32m--> 288\u001b[0m sf \u001b[38;5;241m=\u001b[39m \u001b[43mScalarFunction\u001b[49m\u001b[43m(\u001b[49m\u001b[43mfun\u001b[49m\u001b[43m,\u001b[49m\u001b[43m \u001b[49m\u001b[43mx0\u001b[49m\u001b[43m,\u001b[49m\u001b[43m \u001b[49m\u001b[43margs\u001b[49m\u001b[43m,\u001b[49m\u001b[43m \u001b[49m\u001b[43mgrad\u001b[49m\u001b[43m,\u001b[49m\u001b[43m \u001b[49m\u001b[43mhess\u001b[49m\u001b[43m,\u001b[49m\n\u001b[1;32m    289\u001b[0m \u001b[43m                    \u001b[49m\u001b[43mfinite_diff_rel_step\u001b[49m\u001b[43m,\u001b[49m\u001b[43m \u001b[49m\u001b[43mbounds\u001b[49m\u001b[43m,\u001b[49m\u001b[43m \u001b[49m\u001b[43mepsilon\u001b[49m\u001b[38;5;241;43m=\u001b[39;49m\u001b[43mepsilon\u001b[49m\u001b[43m)\u001b[49m\n\u001b[1;32m    291\u001b[0m \u001b[38;5;28;01mreturn\u001b[39;00m sf\n",
      "File \u001b[0;32m~/Documents/projects/qsof/.venv/lib/python3.12/site-packages/scipy/optimize/_differentiable_functions.py:222\u001b[0m, in \u001b[0;36mScalarFunction.__init__\u001b[0;34m(self, fun, x0, args, grad, hess, finite_diff_rel_step, finite_diff_bounds, epsilon)\u001b[0m\n\u001b[1;32m    219\u001b[0m     finite_diff_options[\u001b[38;5;124m\"\u001b[39m\u001b[38;5;124mas_linear_operator\u001b[39m\u001b[38;5;124m\"\u001b[39m] \u001b[38;5;241m=\u001b[39m \u001b[38;5;28;01mTrue\u001b[39;00m\n\u001b[1;32m    221\u001b[0m \u001b[38;5;66;03m# Initial function evaluation\u001b[39;00m\n\u001b[0;32m--> 222\u001b[0m \u001b[38;5;28;43mself\u001b[39;49m\u001b[38;5;241;43m.\u001b[39;49m\u001b[43m_update_fun\u001b[49m\u001b[43m(\u001b[49m\u001b[43m)\u001b[49m\n\u001b[1;32m    224\u001b[0m \u001b[38;5;66;03m# Initial gradient evaluation\u001b[39;00m\n\u001b[1;32m    225\u001b[0m \u001b[38;5;28mself\u001b[39m\u001b[38;5;241m.\u001b[39m_wrapped_grad, \u001b[38;5;28mself\u001b[39m\u001b[38;5;241m.\u001b[39m_ngev \u001b[38;5;241m=\u001b[39m _wrapper_grad(\n\u001b[1;32m    226\u001b[0m     grad,\n\u001b[1;32m    227\u001b[0m     fun\u001b[38;5;241m=\u001b[39m\u001b[38;5;28mself\u001b[39m\u001b[38;5;241m.\u001b[39m_wrapped_fun,\n\u001b[1;32m    228\u001b[0m     args\u001b[38;5;241m=\u001b[39margs,\n\u001b[1;32m    229\u001b[0m     finite_diff_options\u001b[38;5;241m=\u001b[39mfinite_diff_options\n\u001b[1;32m    230\u001b[0m )\n",
      "File \u001b[0;32m~/Documents/projects/qsof/.venv/lib/python3.12/site-packages/scipy/optimize/_differentiable_functions.py:294\u001b[0m, in \u001b[0;36mScalarFunction._update_fun\u001b[0;34m(self)\u001b[0m\n\u001b[1;32m    292\u001b[0m \u001b[38;5;28;01mdef\u001b[39;00m \u001b[38;5;21m_update_fun\u001b[39m(\u001b[38;5;28mself\u001b[39m):\n\u001b[1;32m    293\u001b[0m     \u001b[38;5;28;01mif\u001b[39;00m \u001b[38;5;129;01mnot\u001b[39;00m \u001b[38;5;28mself\u001b[39m\u001b[38;5;241m.\u001b[39mf_updated:\n\u001b[0;32m--> 294\u001b[0m         fx \u001b[38;5;241m=\u001b[39m \u001b[38;5;28;43mself\u001b[39;49m\u001b[38;5;241;43m.\u001b[39;49m\u001b[43m_wrapped_fun\u001b[49m\u001b[43m(\u001b[49m\u001b[38;5;28;43mself\u001b[39;49m\u001b[38;5;241;43m.\u001b[39;49m\u001b[43mx\u001b[49m\u001b[43m)\u001b[49m\n\u001b[1;32m    295\u001b[0m         \u001b[38;5;28;01mif\u001b[39;00m fx \u001b[38;5;241m<\u001b[39m \u001b[38;5;28mself\u001b[39m\u001b[38;5;241m.\u001b[39m_lowest_f:\n\u001b[1;32m    296\u001b[0m             \u001b[38;5;28mself\u001b[39m\u001b[38;5;241m.\u001b[39m_lowest_x \u001b[38;5;241m=\u001b[39m \u001b[38;5;28mself\u001b[39m\u001b[38;5;241m.\u001b[39mx\n",
      "File \u001b[0;32m~/Documents/projects/qsof/.venv/lib/python3.12/site-packages/scipy/optimize/_differentiable_functions.py:20\u001b[0m, in \u001b[0;36m_wrapper_fun.<locals>.wrapped\u001b[0;34m(x)\u001b[0m\n\u001b[1;32m     16\u001b[0m ncalls[\u001b[38;5;241m0\u001b[39m] \u001b[38;5;241m+\u001b[39m\u001b[38;5;241m=\u001b[39m \u001b[38;5;241m1\u001b[39m\n\u001b[1;32m     17\u001b[0m \u001b[38;5;66;03m# Send a copy because the user may overwrite it.\u001b[39;00m\n\u001b[1;32m     18\u001b[0m \u001b[38;5;66;03m# Overwriting results in undefined behaviour because\u001b[39;00m\n\u001b[1;32m     19\u001b[0m \u001b[38;5;66;03m# fun(self.x) will change self.x, with the two no longer linked.\u001b[39;00m\n\u001b[0;32m---> 20\u001b[0m fx \u001b[38;5;241m=\u001b[39m \u001b[43mfun\u001b[49m\u001b[43m(\u001b[49m\u001b[43mnp\u001b[49m\u001b[38;5;241;43m.\u001b[39;49m\u001b[43mcopy\u001b[49m\u001b[43m(\u001b[49m\u001b[43mx\u001b[49m\u001b[43m)\u001b[49m\u001b[43m,\u001b[49m\u001b[43m \u001b[49m\u001b[38;5;241;43m*\u001b[39;49m\u001b[43margs\u001b[49m\u001b[43m)\u001b[49m\n\u001b[1;32m     21\u001b[0m \u001b[38;5;66;03m# Make sure the function returns a true scalar\u001b[39;00m\n\u001b[1;32m     22\u001b[0m \u001b[38;5;28;01mif\u001b[39;00m \u001b[38;5;129;01mnot\u001b[39;00m np\u001b[38;5;241m.\u001b[39misscalar(fx):\n",
      "Cell \u001b[0;32mIn[9], line 39\u001b[0m, in \u001b[0;36mQAOA.run_qaoa.<locals>.objective_function\u001b[0;34m(params)\u001b[0m\n\u001b[1;32m     37\u001b[0m qc\u001b[38;5;241m.\u001b[39mmeasure_all()\n\u001b[1;32m     38\u001b[0m job \u001b[38;5;241m=\u001b[39m \u001b[38;5;28mself\u001b[39m\u001b[38;5;241m.\u001b[39mbackend\u001b[38;5;241m.\u001b[39mrun(qc, shots\u001b[38;5;241m=\u001b[39m\u001b[38;5;241m1024\u001b[39m)\n\u001b[0;32m---> 39\u001b[0m counts \u001b[38;5;241m=\u001b[39m \u001b[43mjob\u001b[49m\u001b[38;5;241;43m.\u001b[39;49m\u001b[43mresult\u001b[49m\u001b[43m(\u001b[49m\u001b[43m)\u001b[49m\u001b[38;5;241;43m.\u001b[39;49m\u001b[43mget_counts\u001b[49m\u001b[43m(\u001b[49m\u001b[43m)\u001b[49m\n\u001b[1;32m     40\u001b[0m energy \u001b[38;5;241m=\u001b[39m \u001b[38;5;241m0\u001b[39m\n\u001b[1;32m     41\u001b[0m \u001b[38;5;28;01mfor\u001b[39;00m bitstring, count \u001b[38;5;129;01min\u001b[39;00m counts\u001b[38;5;241m.\u001b[39mitems():\n",
      "File \u001b[0;32m~/Documents/projects/qsof/.venv/lib/python3.12/site-packages/qiskit/result/result.py:264\u001b[0m, in \u001b[0;36mResult.get_counts\u001b[0;34m(self, experiment)\u001b[0m\n\u001b[1;32m    262\u001b[0m dict_list \u001b[38;5;241m=\u001b[39m []\n\u001b[1;32m    263\u001b[0m \u001b[38;5;28;01mfor\u001b[39;00m key \u001b[38;5;129;01min\u001b[39;00m exp_keys:\n\u001b[0;32m--> 264\u001b[0m     exp \u001b[38;5;241m=\u001b[39m \u001b[38;5;28;43mself\u001b[39;49m\u001b[38;5;241;43m.\u001b[39;49m\u001b[43m_get_experiment\u001b[49m\u001b[43m(\u001b[49m\u001b[43mkey\u001b[49m\u001b[43m)\u001b[49m\n\u001b[1;32m    265\u001b[0m     \u001b[38;5;28;01mtry\u001b[39;00m:\n\u001b[1;32m    266\u001b[0m         header \u001b[38;5;241m=\u001b[39m exp\u001b[38;5;241m.\u001b[39mheader\u001b[38;5;241m.\u001b[39mto_dict()\n",
      "File \u001b[0;32m~/Documents/projects/qsof/.venv/lib/python3.12/site-packages/qiskit/result/result.py:392\u001b[0m, in \u001b[0;36mResult._get_experiment\u001b[0;34m(self, key)\u001b[0m\n\u001b[1;32m    390\u001b[0m result_status \u001b[38;5;241m=\u001b[39m \u001b[38;5;28mgetattr\u001b[39m(\u001b[38;5;28mself\u001b[39m, \u001b[38;5;124m\"\u001b[39m\u001b[38;5;124mstatus\u001b[39m\u001b[38;5;124m\"\u001b[39m, \u001b[38;5;124m\"\u001b[39m\u001b[38;5;124mResult was not successful\u001b[39m\u001b[38;5;124m\"\u001b[39m)\n\u001b[1;32m    391\u001b[0m exp_status \u001b[38;5;241m=\u001b[39m \u001b[38;5;28mgetattr\u001b[39m(exp, \u001b[38;5;124m\"\u001b[39m\u001b[38;5;124mstatus\u001b[39m\u001b[38;5;124m\"\u001b[39m, \u001b[38;5;124m\"\u001b[39m\u001b[38;5;124mExperiment was not successful\u001b[39m\u001b[38;5;124m\"\u001b[39m)\n\u001b[0;32m--> 392\u001b[0m \u001b[38;5;28;01mraise\u001b[39;00m QiskitError(result_status, \u001b[38;5;124m\"\u001b[39m\u001b[38;5;124m, \u001b[39m\u001b[38;5;124m\"\u001b[39m, exp_status)\n",
      "\u001b[0;31mQiskitError\u001b[0m: 'ERROR:  [Experiment 0] Insufficient memory to run circuit circuit-166 using the statevector simulator. Required memory: 18446744073709551615M, max memory: 18432M ,  ERROR: Insufficient memory to run circuit circuit-166 using the statevector simulator. Required memory: 18446744073709551615M, max memory: 18432M'"
     ]
    }
   ],
   "source": [
    "qaoa_solver = QAOA(Q_big, 2)\n",
    "best_solution_vector, best_value_qaoa = qaoa_solver.run_qaoa()\n",
    "print(\"QAOA Solution:\")\n",
    "print(\"Best Solution:\", best_solution_vector)\n",
    "print(\"Best Value:\", best_value_qaoa)"
   ]
  },
  {
   "cell_type": "markdown",
   "metadata": {},
   "source": [
    "## Analysis of Solutions for Large Bin Packing Example\n",
    "We analyze the performance of different optimization algorithms on a larger instance of the bin packing problem. \n",
    "\n",
    "For this larger problem instance, we observed different behavior from the algorithms compared to the smaller instances. \n",
    "\n",
    "- **Brute Force**: \n",
    "  - **Performance**: Took an excessive amount of time.\n",
    "  - **Analysis**: Brute force, while guaranteed to find the optimal solution, scales poorly with problem size due to the exponential growth in the number of combinations that need to be evaluated.\n",
    "\n",
    "- **VQE (Variational Quantum Eigensolver)**:\n",
    "  - **Performance**: Encountered a **memory error** during execution.\n",
    "  - **Analysis**: The VQE approach, which relies on parameterized quantum circuits, faced memory limitations. This could be due to the increased complexity of the Hamiltonian and the size of the quantum state space, which scales exponentially with the number of qubits. \n",
    "\n",
    "- **QAOA (Quantum Approximate Optimization Algorithm)**:\n",
    "  - **Performance**: Also encountered a **memory error** during execution.\n",
    "  - **Analysis**: Similar to VQE, QAOA also faced memory issues. This suggests that the circuit complexity was too high for the available resources, resulting in an inability to create or execute the required quantum circuits. \n",
    "\n",
    "- **D-Wave Quantum Annealing**:\n",
    "  - **Performance**: Successfully found a solution.\n",
    "  - **Analysis**: D-Wave was the **only approach that managed to solve the problem efficiently**. The quantum annealer successfully handled the larger problem instance without running into memory issues or excessive computation times. This showcases the advantage of using quantum annealing for combinatorial optimization problems, particularly for problems where other methods struggle due to computational or memory limitations.\n",
    "\n",
    "#### Detailed Analysis of D-Wave Solution\n",
    "\n",
    "The **D-Wave quantum annealer** provided a solution that was both **optimal** and **computationally efficient** for this larger problem instance. This highlights a few key advantages:\n",
    "\n",
    "1. Scalability\n",
    "2. Resource Efficiency\n",
    "3. Practicality\n",
    "\n",
    "### Key Takeaways\n",
    "\n",
    "| Method         | Result Summary                          | Notes                                       |\n",
    "|----------------|----------------------------------------|---------------------------------------------|\n",
    "| Brute Force    | Took too long                           | Impractical due to exponential growth       |\n",
    "| VQE            | Memory Error                            | Faced memory limitations due to complexity  |\n",
    "| QAOA           | Memory Error                            | Exceeded backend resource capacity          |\n",
    "| D-Wave         | Optimal Solution Found                  | Efficient and successful for large instance |\n",
    "\n",
    "### Conclusion\n",
    "\n",
    "For this large bin packing problem instance, **D-Wave quantum annealing** was the **only feasible approach**, providing a solution efficiently while other methods either failed or required excessive computational time. This highlights D-Wave's **robustness** and **efficiency** for solving large-scale combinatorial optimization problems.\n"
   ]
  }
 ],
 "metadata": {
  "kernelspec": {
   "display_name": ".venv",
   "language": "python",
   "name": "python3"
  },
  "language_info": {
   "codemirror_mode": {
    "name": "ipython",
    "version": 3
   },
   "file_extension": ".py",
   "mimetype": "text/x-python",
   "name": "python",
   "nbconvert_exporter": "python",
   "pygments_lexer": "ipython3",
   "version": "3.12.4"
  }
 },
 "nbformat": 4,
 "nbformat_minor": 2
}
